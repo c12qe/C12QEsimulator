{
 "cells": [
  {
   "cell_type": "markdown",
   "source": [
    "### C12 Jupyther hub\n",
    "\n",
    "\n",
    "The C12 simulator JupytherHab allows users to learn, try, and utilize the simulator that will demonstrate the benefits of the future C12 quantum\n",
    "computer. JupytherLab has already preinstalled and preconfigured Python packages necessary to use the C12 simulator.\n",
    "\n",
    "After successful login, the user can use the full JupyterLab capabilities. The users can save their Jupyther notebooks and work in their local folder, but it is crucial to notice that no files can be kept inside the folder that contains tutorials (docs/ folder). This folder is a read-only folder, so it is not possible to save custom-made files there, as well as it is not possible to change the notebooks.\n",
    "\n",
    "\n",
    "The tutorials can be seen on the left side of the initial JupyterLab screen, and they are divided into five notebooks:\n",
    "\n",
    " 1. The first one is devoted to the basics of the Qiskit library, mainly creating the quantum circuits and performing the perfect simulation using Qiskit's Aer package. Also, we will briefly cover the OpenQASM format and its properties.\n",
    "\n",
    "2. The second one shows the usage of the c12simulator-clients package for running the quantum circuits on the C12 simulator and obtaining the simulation results. The notebook also shows one example using a popular quantum algorithm: Grover's algorithm.\n",
    "\n",
    "3. The third notebook explains how we can retrieve the information from the jobs that have already been run. Besides that, we will see how to run multiple circuits simultaneously.\n",
    "\n",
    "4. The fourth notebook shows how to run circuits using simple API calls. This notebook demonstrates low-level communication with the C12 simulator.\n",
    "\n",
    "5. The fifth notebook demonstrates how to get the mid-circuit states using barriers.\n",
    "\n",
    "\n",
    "<img src=\"Figure1.png\" alt=\"Figure 1\" width=\"900\" height=\"400\" />\n",
    "\n",
    "\n",
    "\n"
   ],
   "metadata": {
    "collapsed": false
   }
  },
  {
   "cell_type": "markdown",
   "source": [
    "### Some useful information\n",
    "\n",
    "1. The available memory for each user is 500MB RAM. If it is exceeded the current lab server will be shut down. It is possible to follow the amount of available memory at the bottom of the JupyterLab screen.\n",
    "2. To logout you have to go to menu File -> Log out. It is important to notice that logging out won't shut down your server! It will remain active until a specified amount of inactivity time. So, please close your server before logging out.\n",
    "3. To close a server. Go to File -> Hub Control Panel and then click Stop my Server button."
   ],
   "metadata": {
    "collapsed": false
   }
  },
  {
   "cell_type": "code",
   "execution_count": null,
   "outputs": [],
   "source": [],
   "metadata": {
    "collapsed": false
   }
  }
 ],
 "metadata": {
  "kernelspec": {
   "display_name": "Python 3",
   "language": "python",
   "name": "python3"
  },
  "language_info": {
   "codemirror_mode": {
    "name": "ipython",
    "version": 2
   },
   "file_extension": ".py",
   "mimetype": "text/x-python",
   "name": "python",
   "nbconvert_exporter": "python",
   "pygments_lexer": "ipython2",
   "version": "2.7.6"
  }
 },
 "nbformat": 4,
 "nbformat_minor": 0
}
