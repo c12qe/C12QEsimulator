{
 "cells": [
  {
   "cell_type": "markdown",
   "metadata": {},
   "source": [
    "### C12 simulator\n",
    "The <b>C12</b> simulator is a backend imitating our real quantum machine in development.\n",
    "It is made on top of the Qiskit library with a proprietary noise model corresponding to our system and with the physical parameters of real devices.\n",
    "This offers realistic noisy simulations of runs on real devices.\n",
    "All the errors that occur during the execution of a quantum circuit have been modelled in the <b>C12</b> simulator.\n",
    "\n",
    "Quantum errors are due to decoherence channels.\n",
    "This first version includes decoherence from charge noise, from phonon noise and from relaxation of the qubit through its quantum bus, a microwave resonator.\n",
    "Callisto offers additional features like mid-circuit measurement and noisy initialization.\n",
    "The quantum gate set of the current configuration is R_X, R_Y and R_Z for the 1Q gates and ISWAP for the 2Q gate.\n",
    "\n",
    "To run the circuits on the C12 simulator, first, it is mandatory to obtain the authentication token that will be used for connection to the remote server where our simulator is. So don't hesitate to contact the system administrator to get one.\n",
    "\n",
    "A token is set via UserConfig class, as shown in the example bellow. UserConfig class has other properties, like more detailed out, which can be set by setting the parameter \"verbose\" to True. One important remark is that the object of the `UserConfig` class is passed to the provider instance, so for any changed to take effect one has to reinitialize the provider.\n"
   ]
  },
  {
   "cell_type": "markdown",
   "metadata": {},
   "source": [
    "As mentioned in the first tutorial, the provided class contains information about available backends that can be used for running the circuit. Furthermore, the available ones can be viewed using the `backends()` method of the provider class (recall that this applies to every Qiskit's provider class, as its sole purpose is to provide access to backends).\n",
    "\n"
   ]
  },
  {
   "cell_type": "code",
   "execution_count": 3,
   "metadata": {},
   "outputs": [
    {
     "name": "stdout",
     "output_type": "stream",
     "text": [
      "C12 simulator: {'backend_name': 'c12sim', 'local': False, 'simulator': True, 'basis_gates': ['crx', 'rx', 'ry', 'rz'], 'description': 'C12 simulator', 'n_qubits': 5, 'conditional': False, 'max_shots': 100000, 'memory': False, 'open_pulse': False, 'max-circuits': 1}\n"
     ]
    }
   ],
   "source": [
    "# UserConfig class\n",
    "from c12simulator_clients.user_configs import UserConfigs\n",
    "import os\n",
    "user_auth_token = os.getenv(\"C12_TOKEN\")\n",
    "configs = UserConfigs.parse_obj({\"token\" : user_auth_token})\n",
    "\n",
    "from c12simulator_clients.qiskit_back.c12sim_provider import C12SimProvider\n",
    "c12_simulator_provider = C12SimProvider(configs)\n",
    "c12_backends = c12_simulator_provider.backends()\n",
    "\n",
    "print(f'C12 simulator: {c12_backends[0]}')"
   ]
  },
  {
   "cell_type": "markdown",
   "metadata": {},
   "source": [
    "We have to call the `get_backend()` function to get the instance of a chosen backend. To the `get_backend()` function, we pass the name of the desired backend we need to obtain."
   ]
  },
  {
   "cell_type": "code",
   "execution_count": 4,
   "metadata": {},
   "outputs": [
    {
     "name": "stdout",
     "output_type": "stream",
     "text": [
      "<c12simulator_clients.qiskit_back.c12sim_backend.C12SimBackend object at 0x7f84d09b3e50>\n"
     ]
    }
   ],
   "source": [
    "c12_simulator_backend = c12_simulator_provider.get_backend('c12sim')\n",
    "print(c12_simulator_backend)"
   ]
  },
  {
   "cell_type": "markdown",
   "metadata": {},
   "source": [
    "Finally, we will run a quantum circuit on the C12 simulator. We will create one circuit using the Qiskit QuantumCircuit class to do that. Then, using the obtained C12 simulator backend class, we will run the circuit using the `run()` method.\n",
    "\n",
    "Method `run()` can have an additional parameter, such as the number of shots (number of times the simulation is run)\n",
    "Also, recall that after calling the `run()` method, we get an instance of a Job class.\n",
    "Additionally, it could take some time for the simulation to finish. Usually, the time is less than one minute, but it depends on the circuit and the server load at that moment."
   ]
  },
  {
   "cell_type": "code",
   "execution_count": 5,
   "metadata": {},
   "outputs": [
    {
     "name": "stdout",
     "output_type": "stream",
     "text": [
      "C12 simulation counts: {'01 ': 7, '10 ': 4, '00 ': 4917, '11 ': 5072}\n"
     ]
    }
   ],
   "source": [
    "from qiskit import QuantumCircuit\n",
    "\n",
    "circuit = QuantumCircuit(2)\n",
    "circuit.h(0)\n",
    "circuit.cx(0, 1)\n",
    "\n",
    "c12_job = c12_simulator_backend.run(circuit, shots=10000)\n",
    "c12_result = c12_job.result()\n",
    "c12_counts = c12_result.get_counts()\n",
    "print(f\"C12 simulation counts: {c12_counts}\")"
   ]
  },
  {
   "cell_type": "code",
   "execution_count": null,
   "metadata": {},
   "outputs": [],
   "source": [
    "# We will also run the same circuit on the Aer statevector simulator to obtain the perfect results.\n",
    "from qiskit import Aer\n",
    "\n",
    "backend_aer = Aer.get_backend(\"statevector_simulator\")\n",
    "result_aer = backend_aer.run(circuit, shots=10000).result()\n",
    "counts_aer = result_aer.get_counts()"
   ]
  },
  {
   "cell_type": "code",
   "execution_count": null,
   "metadata": {},
   "outputs": [],
   "source": [
    "# Make comparison\n",
    "from qiskit.visualization import plot_histogram\n",
    "data = [c12_counts, counts_aer]\n",
    "plot_histogram(data,\n",
    "               legend=['C12 simulator', 'Perfect simulator'],\n",
    "               title=\"Simulators comparison\",\n",
    "               figsize=(5, 5))"
   ]
  },
  {
   "cell_type": "markdown",
   "metadata": {},
   "source": [
    "#### Groover algorithm example\n",
    "\n",
    "The Grover algorithm, also known as Grover's search algorithm, is a quantum algorithm that can be used to search an unsorted database or find a specific database entry faster than classical algorithms. It is one of the youngest quantum algorithms.\n",
    "\n",
    "The algorithm works by starting with a superposition of all possible states and then applying a series of operations to amplify the amplitude of the state corresponding to the desired item. As a result, the algorithm achieves a quadratic speedup over classical algorithms, which means that it can search a database of N items in O($\\sqrt{N}$) time, compared to O(N) time for classical algorithms.\n",
    "\n",
    "First, we will create an groover circuit with a two qubits."
   ]
  },
  {
   "cell_type": "code",
   "execution_count": null,
   "metadata": {},
   "outputs": [],
   "source": [
    "from qiskit import QuantumRegister\n",
    "\n",
    "qreg_q = QuantumRegister(2, 'q')\n",
    "groover_circuit = QuantumCircuit(qreg_q)\n",
    "\n",
    "groover_circuit.h(qreg_q[1])\n",
    "groover_circuit.h(qreg_q[0])\n",
    "groover_circuit.x(qreg_q[1])\n",
    "groover_circuit.x(qreg_q[0])\n",
    "groover_circuit.cz(qreg_q[0], qreg_q[1])\n",
    "groover_circuit.x(qreg_q[0])\n",
    "groover_circuit.x(qreg_q[1])\n",
    "groover_circuit.h(qreg_q[0])\n",
    "groover_circuit.h(qreg_q[1])\n",
    "groover_circuit.z(qreg_q[0])\n",
    "groover_circuit.z(qreg_q[1])\n",
    "groover_circuit.cz(qreg_q[0], qreg_q[1])\n",
    "groover_circuit.h(qreg_q[0])\n",
    "groover_circuit.h(qreg_q[1])\n",
    "\n",
    "groover_circuit.draw('mpl')"
   ]
  },
  {
   "cell_type": "code",
   "execution_count": null,
   "metadata": {},
   "outputs": [],
   "source": [
    "# Run the circuit on C12 simulator\n",
    "c12_groover_result = c12_simulator_backend.run(groover_circuit, shots=10000).result()\n",
    "c12_groover_counts = c12_groover_result.get_counts()\n",
    "\n",
    "aer_groover_result = backend_aer.run(groover_circuit, shots=10000).result()\n",
    "aer_groover_counts = aer_groover_result.get_counts()\n",
    "\n",
    "data = [c12_groover_counts, aer_groover_counts]\n",
    "plot_histogram(data, legend=['C12 simulator', 'Perfect simulator'], title=\"Groover algorithm simulators comparison\", figsize=(5,5))"
   ]
  },
  {
   "cell_type": "code",
   "execution_count": null,
   "outputs": [],
   "source": [],
   "metadata": {
    "collapsed": false
   }
  }
 ],
 "metadata": {
  "kernelspec": {
   "display_name": "Python 3 (ipykernel)",
   "language": "python",
   "name": "python3"
  },
  "language_info": {
   "codemirror_mode": {
    "name": "ipython",
    "version": 3
   },
   "file_extension": ".py",
   "mimetype": "text/x-python",
   "name": "python",
   "nbconvert_exporter": "python",
   "pygments_lexer": "ipython3",
   "version": "3.10.9"
  }
 },
 "nbformat": 4,
 "nbformat_minor": 1
}
