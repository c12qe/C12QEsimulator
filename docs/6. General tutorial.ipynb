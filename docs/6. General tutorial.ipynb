{
 "cells": [
  {
   "cell_type": "markdown",
   "source": [
    "## C12 teambuilding - Simulator tutorial"
   ],
   "metadata": {
    "collapsed": false
   }
  },
  {
   "cell_type": "markdown",
   "source": [
    "### Qiskit basics\n",
    "\n",
    "Qiskit is an open-source framework for working with quantum computers. It is maintained and developed by IBM. It provides tools for creating, manipulating, and simulating quantum circuits and running them on actual quantum computers (IBMQ provider). Qiskit also includes libraries for different quantum algorithms. It has a developed community (available on Slack) and detailed documentation (<a href=\"https://qiskit.org/documentation/\">Qiskit documentation</a>). <br> <br>\n",
    "\n",
    "The foundation of the Qiskit is module Terra,  which provides the essential tools to build and run quantum circuits. In addition, Terra defines the interfaces for an end-user experience and the layers of optimization, pulse scheduling, and backend communication. The detailed and more comprehensive tutorial can be found <a href=\"https://qiskit.org/documentation/tutorials/circuits/1_getting_started_with_qiskit.html\">here</a>.\n",
    "\n",
    "\n",
    "\n",
    "Aer module has different simulators that can imitate the working quantum computer. We can use Aer to verify that current and near-future quantum computers operate correctly. Aer provides a high-performance simulator framework for quantum circuits using the Qiskit software stack. It contains optimized C++ simulator backends for executing circuits compiled in Terra. Aer also provides tools for constructing highly configurable noise models for performing realistic noisy simulations of the errors that occur during execution on real devices.\n",
    "\n",
    "\n",
    "To create a quantum circuit, we need to create an instance of the `QuantumCircuit` class and specify the number of qubits.\n"
   ],
   "metadata": {
    "collapsed": false
   }
  },
  {
   "cell_type": "code",
   "execution_count": 45,
   "outputs": [
    {
     "data": {
      "text/plain": "     ┌───┐     \nq_0: ┤ X ├─────\n     └───┘     \nq_1: ──────────\n     ┌───┐     \nq_2: ┤ H ├──■──\n     └───┘┌─┴─┐\nq_3: ─────┤ X ├\n          └───┘",
      "text/html": "<pre style=\"word-wrap: normal;white-space: pre;background: #fff0;line-height: 1.1;font-family: &quot;Courier New&quot;,Courier,monospace\">     ┌───┐     \nq_0: ┤ X ├─────\n     └───┘     \nq_1: ──────────\n     ┌───┐     \nq_2: ┤ H ├──■──\n     └───┘┌─┴─┐\nq_3: ─────┤ X ├\n          └───┘</pre>"
     },
     "execution_count": 45,
     "metadata": {},
     "output_type": "execute_result"
    }
   ],
   "source": [
    "from qiskit import QuantumCircuit\n",
    "\n",
    "circuit = QuantumCircuit(4) # Create a QuantumCircuit object with 4 qubits\n",
    "\n",
    "circuit.h(2)     # Add a H (Hadamard) gate on qubit 3\n",
    "circuit.cx(2, 3) # Add a CX (CNOT) gate on control qubit 3, and target qubit 4\n",
    "circuit.x(0)     # Add Pauli X gate on the first qubit\n",
    "\n",
    "circuit.draw() # Visualize the circuit"
   ],
   "metadata": {
    "collapsed": false
   }
  },
  {
   "cell_type": "code",
   "execution_count": 46,
   "outputs": [
    {
     "data": {
      "text/plain": "<Figure size 287.496x367.889 with 1 Axes>",
      "image/png": "[encoded data removed]"
     },
     "execution_count": 46,
     "metadata": {},
     "output_type": "execute_result"
    }
   ],
   "source": [
    "circuit.draw('mpl') # Drawing a circuit using matplotlib (prettier drawing)"
   ],
   "metadata": {
    "collapsed": false
   }
  },
  {
   "cell_type": "markdown",
   "source": [
    "### C12 simulator\n",
    "The C12 simulator is made on top of the Qiskit library with a noise model corresponding to our system integrated to simulate the real machine currently in development.\n",
    "\n",
    "To run the circuits on the C12 simulator, first, it is mandatory to obtain the authentication token that will be used for connection to the remote server where our simulator is. So don't hesitate to contact the system administrator to get one.\n",
    "\n",
    "A token is set via UserConfig class, as shown in the example bellow. UserConfig class has other properties, like more detailed out, which can be set by setting the parameter \"verbose\" to True. One important remark is that the object of the `UserConfig` class is passed to the provider instance, so for any changed to take effect one has to reinitialize the provider."
   ],
   "metadata": {
    "collapsed": false
   }
  },
  {
   "cell_type": "code",
   "execution_count": 47,
   "outputs": [
    {
     "name": "stdout",
     "output_type": "stream",
     "text": [
      "\r\n",
      "\u001B[1m[\u001B[0m\u001B[34;49mnotice\u001B[0m\u001B[1;39;49m]\u001B[0m\u001B[39;49m A new release of pip is available: \u001B[0m\u001B[31;49m23.0.1\u001B[0m\u001B[39;49m -> \u001B[0m\u001B[32;49m23.1.2\u001B[0m\r\n",
      "\u001B[1m[\u001B[0m\u001B[34;49mnotice\u001B[0m\u001B[1;39;49m]\u001B[0m\u001B[39;49m To update, run: \u001B[0m\u001B[32;49mpip install --upgrade pip\u001B[0m\r\n"
     ]
    }
   ],
   "source": [
    "# Installing the c12simulator-clients package (for more details see jupyter 1)\n",
    "!python -m pip install --index-url https://test.pypi.org/simple/ --extra-index-url https://pypi.org/simple c12simulator-clients==0.0.36 -q"
   ],
   "metadata": {
    "collapsed": false
   }
  },
  {
   "cell_type": "markdown",
   "source": [
    "As mentioned in the first tutorial, the provided class contains information about available backends that can be used for running the circuit. Furthermore, the available ones can be viewed using the `backends()` method of the provider class (recall that this applies to every Qiskit's provider class, as its sole purpose is to provide access to backends).\n"
   ],
   "metadata": {
    "collapsed": false
   }
  },
  {
   "cell_type": "code",
   "execution_count": 48,
   "outputs": [
    {
     "name": "stdout",
     "output_type": "stream",
     "text": [
      "{'backend_name': 'c12sim', 'local': False, 'simulator': True, 'basis_gates': ['crx', 'rx', 'ry', 'rz'], 'description': 'C12 simulator', 'n_qubits': 5, 'conditional': False, 'max_shots': 100000, 'memory': False, 'open_pulse': False, 'max-circuits': 1}\n",
      "----------------\n",
      "{'backend_name': 'c12sim-iswap', 'local': False, 'simulator': True, 'basis_gates': ['iswap', 'rx', 'ry', 'rz'], 'description': 'C12 simulator', 'n_qubits': 5, 'conditional': False, 'max_shots': 100000, 'memory': False, 'open_pulse': False, 'max-circuits': 1}\n",
      "----------------\n"
     ]
    }
   ],
   "source": [
    "# UserConfig class\n",
    "from c12simulator_clients.user_configs import UserConfigs\n",
    "user_auth_token = \"db0ccae9b0dfccba90a534ad40802d40aa57d395bdac4e3a0bfcaaa7db0a3c2f\"\n",
    "configs = UserConfigs.parse_obj({\"token\" : user_auth_token, \"verbose\" : False})\n",
    "\n",
    "from c12simulator_clients.qiskit_back.c12sim_provider import C12SimProvider\n",
    "c12_simulator_provider = C12SimProvider(configs)\n",
    "c12_backends = c12_simulator_provider.backends()\n",
    "\n",
    "# See all available backends on the C12 system (basis gates sets).\n",
    "for backends in c12_backends:\n",
    "    print(backends)\n",
    "    print(\"----------------\")"
   ],
   "metadata": {
    "collapsed": false
   }
  },
  {
   "cell_type": "markdown",
   "source": [
    "We have to call the `get_backend()` function to get the instance of a chosen backend. To the `get_backend()` function, we pass the name of the desired backend we need to obtain.\n"
   ],
   "metadata": {
    "collapsed": false
   }
  },
  {
   "cell_type": "code",
   "execution_count": 49,
   "outputs": [],
   "source": [
    "crx_backend =  c12_simulator_provider.get_backend('c12sim')\n",
    "iswap_backend =  c12_simulator_provider.get_backend('c12sim-iswap')"
   ],
   "metadata": {
    "collapsed": false
   }
  },
  {
   "cell_type": "code",
   "execution_count": 50,
   "outputs": [
    {
     "name": "stdout",
     "output_type": "stream",
     "text": [
      "B_sym : 0.245,\n",
      "B_asym : 0.245,\n",
      "epsilon : 0.0,\n",
      "half_delta_g : 300e6,\n",
      "omega_b : 14.1e6,\n",
      "omega_t : 19.9e9,\n",
      "omega_s : 12.3e9,\n",
      "lambda_nu_b : 1.5e-5 ,\n",
      "lambda_nu_t : 5.0e-8 ,\n",
      "lambda_nu_s : 2.0e-7,\n",
      "Q_c : 1e4,\n",
      "Q_nu_b : 1e2,\n",
      "Q_nu_t : 1e5,\n",
      "Q_nu_s : 1e5,\n",
      "T : 20e-3,\n",
      "Omega_d : 500e6,\n",
      "power_spect_const : 0.00117\n"
     ]
    }
   ],
   "source": [
    "# It is possible to get a list of all available physical params of the system\n",
    "from c12simulator_clients.api.client import Request\n",
    "request = Request(auth_token=user_auth_token, verbose=False)\n",
    "physical_params = request.get_params()\n",
    "\n",
    "for key,value in physical_params.items():\n",
    "    print(f\"{key} : {value}\")\n",
    "\n",
    "# B_sym B_asym: Magnetic fields (units: T) 0 Hz < alpha < 10 GHz\n",
    "# epsilon: Potential difference across the nanotube (units: V)\n",
    "# half_delta_g: Coupling between the electron and the cavity (units: Hz) 10 MHz < half_delta_g < 300 MHz\n",
    "\n",
    "# Frequencies (units: Hz)\n",
    "# 7 MHz < omega_b < 120 MHz bending\n",
    "# 10 GHz < omega_t < 40 GHz twisting\n",
    "# 6 GHz < omega_s < 25 GHz stretching\n",
    "\n",
    "# Coupling between the qubit and the oscillation modes (units: Hz)\n",
    "# 1e-7 eV < lambda_b < 3e-5 eV\n",
    "# 1e-8 eV < lambda_t < 1e-7 eV\n",
    "# 5e-8 eV < lambda_s < 4e-7 eV\n",
    "\n",
    "\n",
    "# Quality factors (units: none)\n",
    "# 1e3 < Q_c < 1e4\n",
    "\n",
    "# Temperature (units: K) :10 mK < T < 20 mK\n",
    "# Omega_d: Microwave signal amplitude for 1-qubit gates (units: Hz)  < 1 GHz\n",
    "# 0.02 mu^2  < power_spect_const <  0.1 mu eV^2 (units: GHz^2)"
   ],
   "metadata": {
    "collapsed": false
   }
  },
  {
   "cell_type": "markdown",
   "source": [
    "Finally, we will run a quantum circuit on the C12 simulator. We will create one circuit using the Qiskit QuantumCircuit class to do that. Then, using the obtained C12 simulator backend class, we will run the circuit using the `run()` method.\n",
    "\n",
    "Method `run()` can have an additional parameter, such as the number of shots (number of times the simulation is run)\n",
    "Also, recall that after calling the `run()` method, we get an instance of a Job class.\n",
    "Additionally, it could take some time for the simulation to finish. Usually, the time is less than one minute, but it depends on the circuit and the server load at that moment.\n",
    "\n",
    "Fidelities for our gates:\n",
    "\n",
    "1. <b> RX(pi) </b>: 0.9999022936684131\n",
    "2. <b> RY(pi) </b>: 0.9999022936684124\n",
    "3. <b> RZ(pi) </b>: 1.0\n",
    "4. <b> CRX(pi) </b>: 0.9996257593279184\n",
    "5. <b> iSWAP </b>: 0.8907042874819673\n",
    "\n"
   ],
   "metadata": {
    "collapsed": false
   }
  },
  {
   "cell_type": "code",
   "execution_count": 84,
   "outputs": [
    {
     "ename": "TypeError",
     "evalue": "unsupported operand type(s) for /: 'Counts' and 'float'",
     "output_type": "error",
     "traceback": [
      "\u001B[0;31m---------------------------------------------------------------------------\u001B[0m",
      "\u001B[0;31mTypeError\u001B[0m                                 Traceback (most recent call last)",
      "Cell \u001B[0;32mIn[84], line 9\u001B[0m\n\u001B[1;32m      7\u001B[0m c12_result \u001B[38;5;241m=\u001B[39m c12_job\u001B[38;5;241m.\u001B[39mresult()\n\u001B[1;32m      8\u001B[0m c12_counts \u001B[38;5;241m=\u001B[39m c12_result\u001B[38;5;241m.\u001B[39mget_counts()\n\u001B[0;32m----> 9\u001B[0m \u001B[38;5;28mprint\u001B[39m(\u001B[38;5;124mf\u001B[39m\u001B[38;5;124m\"\u001B[39m\u001B[38;5;124mC12  counts: \u001B[39m\u001B[38;5;132;01m{\u001B[39;00m\u001B[43mc12_counts\u001B[49m\u001B[38;5;241;43m/\u001B[39;49m\u001B[38;5;241;43m10000.0\u001B[39;49m\u001B[38;5;132;01m}\u001B[39;00m\u001B[38;5;124m\"\u001B[39m)\n",
      "\u001B[0;31mTypeError\u001B[0m: unsupported operand type(s) for /: 'Counts' and 'float'"
     ]
    }
   ],
   "source": [
    "from qiskit import QuantumCircuit\n",
    "\n",
    "circuit = QuantumCircuit(2)\n",
    "circuit.iswap(0,1)\n",
    "\n",
    "c12_job = iswap_backend.run(circuit, shots=10000)\n",
    "c12_result = c12_job.result()\n",
    "c12_counts = c12_result.get_counts()"
   ],
   "metadata": {
    "collapsed": false
   }
  },
  {
   "cell_type": "code",
   "execution_count": 85,
   "outputs": [
    {
     "name": "stdout",
     "output_type": "stream",
     "text": [
      "C12  counts: {'11 ': 98, '10 ': 634, '00 ': 8634, '01 ': 634}\n"
     ]
    }
   ],
   "source": [
    "print(f\"C12  counts: {c12_counts}\")"
   ],
   "metadata": {
    "collapsed": false
   }
  },
  {
   "cell_type": "code",
   "execution_count": 86,
   "outputs": [
    {
     "name": "stdout",
     "output_type": "stream",
     "text": [
      "C12 CRX simulation counts: {'01 ': 3, '10 ': 3, '00 ': 5003, '11 ': 4991}\n"
     ]
    }
   ],
   "source": [
    "\n",
    "circuit = QuantumCircuit(2)\n",
    "circuit.h(0)\n",
    "circuit.cx(0, 1)\n",
    "\n",
    "c12_job_crx = crx_backend.run(circuit, shots=10000)\n",
    "c12_result_crx = c12_job_crx.result()\n",
    "c12_counts_crx = c12_result_crx.get_counts()\n",
    "print(f\"C12 CRX simulation counts: {c12_counts_crx}\")"
   ],
   "metadata": {
    "collapsed": false
   }
  },
  {
   "cell_type": "code",
   "execution_count": 87,
   "outputs": [
    {
     "name": "stdout",
     "output_type": "stream",
     "text": [
      "C12 iSWAP simulation counts: {'01 ': 526, '10 ': 792, '00 ': 4231, '11 ': 4451}\n"
     ]
    }
   ],
   "source": [
    "c12_job_iswap = iswap_backend.run(circuit, shots=10000)\n",
    "c12_result_iswap = c12_job_iswap.result()\n",
    "c12_counts_iswap = c12_result_iswap.get_counts()\n",
    "print(f\"C12 iSWAP simulation counts: {c12_counts_iswap}\")"
   ],
   "metadata": {
    "collapsed": false
   }
  },
  {
   "cell_type": "code",
   "execution_count": 89,
   "outputs": [],
   "source": [
    "# We will also run the same circuit on the Aer statevector simulator to obtain the perfect results.\n",
    "from qiskit import Aer\n",
    "\n",
    "backend_aer = Aer.get_backend(\"statevector_simulator\")\n",
    "result_aer = backend_aer.run(circuit, shots=10000).result()\n",
    "counts_aer = result_aer.get_counts()"
   ],
   "metadata": {
    "collapsed": false
   }
  },
  {
   "cell_type": "code",
   "execution_count": 90,
   "outputs": [
    {
     "data": {
      "text/plain": "<Figure size 700x700 with 1 Axes>",
      "image/png": "[encoded data removed]"
     },
     "execution_count": 90,
     "metadata": {},
     "output_type": "execute_result"
    }
   ],
   "source": [
    "# Make comparison\n",
    "from qiskit.visualization import plot_histogram\n",
    "crx = {}\n",
    "for key, value in c12_counts_crx.items():\n",
    "    crx[key.strip()] = value\n",
    "iswap = {}\n",
    "\n",
    "for key, value in c12_counts_iswap.items():\n",
    "    iswap[key.strip()] = value\n",
    "\n",
    "data = [counts_aer, crx, iswap]\n",
    "\n",
    "plot_histogram(data,\n",
    "               legend=[\"Ideal\", \"CRX\", \"iSWAP\"],\n",
    "               title=\"Simulators comparison\",\n",
    "               figsize=(7, 7))"
   ],
   "metadata": {
    "collapsed": false
   }
  },
  {
   "cell_type": "markdown",
   "source": [
    "### <b> <u> Exercise (1) </b> </u>:\n",
    "Run random circuit using our simulator. Try long circuits, a lot of two qubit gates, different gates etc."
   ],
   "metadata": {
    "collapsed": false
   }
  },
  {
   "cell_type": "code",
   "execution_count": 91,
   "outputs": [
    {
     "name": "stdout",
     "output_type": "stream",
     "text": [
      "C12 test simulation counts: {'01 ': 3, '10 ': 3, '00 ': 5003, '11 ': 4991}\n"
     ]
    },
    {
     "data": {
      "text/plain": "<Figure size 287.294x200.667 with 1 Axes>",
      "image/png": "[encoded data removed]"
     },
     "execution_count": 91,
     "metadata": {},
     "output_type": "execute_result"
    }
   ],
   "source": [
    "# Also it is possible to retrieve the circuit that has been run for specific job\n",
    "c12_job = crx_backend.run(circuit, shots=10000)\n",
    "c12_result_crx = c12_job_crx.result()\n",
    "c12_counts_crx = c12_result_crx.get_counts()\n",
    "print(f\"C12 test simulation counts: {c12_counts_crx}\")\n",
    "\n",
    "qasm = c12_job.get_qasm() # Get OpenQASM string\n",
    "first_job_circuit = c12_job.get_circuit()\n",
    "first_job_circuit.draw('mpl')"
   ],
   "metadata": {
    "collapsed": false
   }
  },
  {
   "cell_type": "code",
   "execution_count": 92,
   "outputs": [
    {
     "data": {
      "text/plain": "<Figure size 538.128x200.667 with 1 Axes>",
      "image/png": "[encoded data removed]"
     },
     "execution_count": 92,
     "metadata": {},
     "output_type": "execute_result"
    }
   ],
   "source": [
    "# Getting the transpiled circuit\n",
    "# NOTICE: It can be possible that due tu bug in Qiskit's transpile function some circuits are wrongly converted to QASM string\n",
    "\n",
    "first_job_transpiled_qasm = c12_job.get_qasm(transpiled=True) # Get transpiled OpenQASM string\n",
    "first_job_transpiled_circuit = c12_job.get_circuit(transpiled=True)\n",
    "first_job_transpiled_circuit.draw('mpl')"
   ],
   "metadata": {
    "collapsed": false
   }
  },
  {
   "cell_type": "markdown",
   "source": [
    "### Getting the mid-circuit states\n",
    "\n",
    "Usually, we only see the final results of the execution of our circuit. However, occasionally it is helpful to know how the state of the system evolves during the execution of the circuit, particularly if we are interested in the statevector and the density matrix of the system.\n",
    "\n",
    " It is necessary to state that currently, on the majority of the real quantum computers, it is not possible to get the mid-circuit states (and the measurements also), so this is an excellent functionality for the simulators.\n",
    "\n",
    "To achieve this, we will use barriers supported by Qiskit and OpenQASM standards. We will get the results of the states of the system at the location where the barrier is placed. Also, it is crucial to notice that the barriers divide the circuit for trnaspilation. Hence, they will behave as a separator for the states and the transpilation process.\n",
    "\n",
    "First, we will demonstrate the usage of the barriers. Afterward, we will retrieve the desired states at the given time."
   ],
   "metadata": {
    "collapsed": false
   }
  },
  {
   "cell_type": "code",
   "execution_count": 72,
   "outputs": [
    {
     "data": {
      "text/plain": "     ┌───┐ ░       ░      \nq_0: ┤ H ├─░───■───░──────\n     └───┘ ░ ┌─┴─┐ ░ ┌───┐\nq_1: ──────░─┤ X ├─░─┤ X ├\n           ░ └───┘ ░ └───┘",
      "text/html": "<pre style=\"word-wrap: normal;white-space: pre;background: #fff0;line-height: 1.1;font-family: &quot;Courier New&quot;,Courier,monospace\">     ┌───┐ ░       ░      \nq_0: ┤ H ├─░───■───░──────\n     └───┘ ░ ┌─┴─┐ ░ ┌───┐\nq_1: ──────░─┤ X ├─░─┤ X ├\n           ░ └───┘ ░ └───┘</pre>"
     },
     "execution_count": 72,
     "metadata": {},
     "output_type": "execute_result"
    }
   ],
   "source": [
    "from qiskit import QuantumCircuit\n",
    "\n",
    "# For more info about Qiskit see notebook 1 and the Qiskit's documentation\n",
    "circuit = QuantumCircuit(2)\n",
    "circuit.h(0)\n",
    "circuit.barrier() # We add a barrier at this position\n",
    "circuit.cx(0, 1)\n",
    "circuit.barrier()\n",
    "circuit.x(1)\n",
    "\n",
    "circuit.draw()\n",
    "# Notice the barrier position in the circuit"
   ],
   "metadata": {
    "collapsed": false
   }
  },
  {
   "cell_type": "code",
   "execution_count": 73,
   "outputs": [
    {
     "name": "stdout",
     "output_type": "stream",
     "text": [
      "C12 simulation counts: {'11 ': 5, '00 ': 2, '10 ': 4943, '01 ': 5050}\n"
     ]
    }
   ],
   "source": [
    "# Running the circuit on C12 simulator\n",
    "c12_job = crx_backend.run(circuit, shots=10000)\n",
    "c12_result = c12_job.result()\n",
    "c12_counts = c12_result.get_counts()\n",
    "print(f\"C12 simulation counts: {c12_counts}\")"
   ],
   "metadata": {
    "collapsed": false
   }
  },
  {
   "cell_type": "code",
   "execution_count": 74,
   "outputs": [
    {
     "name": "stdout",
     "output_type": "stream",
     "text": [
      "9d71d7f6-a677-4f1f-b242-4ec5bb5f4b8d\n"
     ]
    },
    {
     "data": {
      "text/plain": "<Figure size 538.128x200.667 with 1 Axes>",
      "image/png": "[encoded data removed]"
     },
     "execution_count": 74,
     "metadata": {},
     "output_type": "execute_result"
    }
   ],
   "source": [
    "# Get the job_id\n",
    "job_id = c12_job.job_id()\n",
    "print(job_id)\n",
    "\n",
    "# Getting all the data (transpiled circuit mainly)\n",
    "orig_circuit = c12_job.get_circuit(transpiled=False)\n",
    "orig_circuit.draw('mpl')"
   ],
   "metadata": {
    "collapsed": false
   }
  },
  {
   "cell_type": "code",
   "execution_count": 75,
   "outputs": [
    {
     "data": {
      "text/plain": "<Figure size 956.183x200.667 with 1 Axes>",
      "image/png": "[encoded data removed]"
     },
     "execution_count": 75,
     "metadata": {},
     "output_type": "execute_result"
    }
   ],
   "source": [
    "transpiled_circuit = c12_job.get_circuit(transpiled=True)\n",
    "transpiled_circuit.draw('mpl')"
   ],
   "metadata": {
    "collapsed": false
   }
  },
  {
   "cell_type": "markdown",
   "source": [
    "#### Getting the mid-circuit states\n",
    "The mid-circuit states are stored in the result object obtained from the job execution. The values can be accessed directly from the Result instance using the following command:\n",
    "\n",
    "\n",
    " `result_obj.data()['sv{NUM}']` for the state vector\n",
    " `result_obj.data()['dm{NUM}']` for the density matrix\n",
    "\n",
    "The `{NUM}` presents the cardinal number of the barrier starting from one."
   ],
   "metadata": {
    "collapsed": false
   }
  },
  {
   "cell_type": "code",
   "execution_count": 76,
   "outputs": [
    {
     "name": "stdout",
     "output_type": "stream",
     "text": [
      "Statevector([0.50001055+0.j, 0.49998945+0.j, 0.        +0.j,\n",
      "             0.        +0.j],\n",
      "            dims=(2, 2))\n",
      "DensityMatrix([[0.50001055+0.00000000e+00j, 0.49987001-1.12970308e-08j,\n",
      "                0.        +0.00000000e+00j, 0.        +0.00000000e+00j],\n",
      "               [0.49987001+1.12970308e-08j, 0.49998945+0.00000000e+00j,\n",
      "                0.        +0.00000000e+00j, 0.        +0.00000000e+00j],\n",
      "               [0.        +0.00000000e+00j, 0.        +0.00000000e+00j,\n",
      "                0.        +0.00000000e+00j, 0.        +0.00000000e+00j],\n",
      "               [0.        +0.00000000e+00j, 0.        +0.00000000e+00j,\n",
      "                0.        +0.00000000e+00j, 0.        +0.00000000e+00j]],\n",
      "              dims=(2, 2))\n"
     ]
    }
   ],
   "source": [
    "# Attention! job is the instance obtained from the search, so it doesn't have any results stored, so we need to call result() function\n",
    "# see notebook 3 for more information\n",
    "c12_job.result()\n",
    "statevector_1 = c12_job.get_mid_statevector(1)\n",
    "density_matrix_1 = c12_job.get_mid_density_matrix(1)\n",
    "\n",
    "print(statevector_1)\n",
    "print(density_matrix_1)"
   ],
   "metadata": {
    "collapsed": false
   }
  },
  {
   "cell_type": "markdown",
   "source": [
    "### Changing the physical params of the system"
   ],
   "metadata": {
    "collapsed": false
   }
  },
  {
   "cell_type": "code",
   "execution_count": 95,
   "outputs": [
    {
     "name": "stdout",
     "output_type": "stream",
     "text": [
      "C12 test simulation with param change counts: {'01 ': 2494, '00 ': 2478, '10 ': 2523, '11 ': 2505}\n"
     ]
    }
   ],
   "source": [
    "\n",
    "# B_sym B_asym: Magnetic fields (units: T) 0 Hz < alpha < 10 GHz\n",
    "# epsilon: Potential difference across the nanotube (units: V)\n",
    "# half_delta_g: Coupling between the electron and the cavity (units: Hz) 10 MHz < half_delta_g < 300 MHz\n",
    "\n",
    "# Frequencies (units: Hz)\n",
    "# 7 MHz < omega_b < 120 MHz bending\n",
    "# 10 GHz < omega_t < 40 GHz twisting\n",
    "# 6 GHz < omega_s < 25 GHz stretching\n",
    "\n",
    "# Coupling between the qubit and the oscillation modes (units: Hz)\n",
    "# 1e-7 eV < lambda_b < 3e-5 eV\n",
    "# 1e-8 eV < lambda_t < 1e-7 eV\n",
    "# 5e-8 eV < lambda_s < 4e-7 eV\n",
    "\n",
    "\n",
    "# Quality factors (units: none)\n",
    "# 1e3 < Q_c < 1e4\n",
    "\n",
    "# Temperature (units: K) :10 mK < T < 20 mK\n",
    "# Omega_d: Microwave signal amplitude for 1-qubit gates (units: Hz)  < 1 GHz\n",
    "# 0.02 mu^2  < power_spect_const <  0.1 mu eV^2 (units: GHz^2)\n",
    "\n",
    "params = {\n",
    "    \"Omega_d\" : 1e2\n",
    "}\n",
    "\n",
    "c12_job_test = iswap_backend.run(circuit, shots=10000, physical_params=str(params))\n",
    "c12_result_test = c12_job_test.result()\n",
    "c12_counts_test = c12_result_test.get_counts()\n",
    "print(f\"C12 test simulation with param change counts: {c12_counts_test}\")\n"
   ],
   "metadata": {
    "collapsed": false
   }
  },
  {
   "cell_type": "markdown",
   "source": [
    "### <b> <u> Exercise (2) </b> </u>:\n",
    "\n",
    "Try changing the physical parameters of the syste in order to get the better fidelity for the iSWAP gate."
   ],
   "metadata": {
    "collapsed": false
   }
  },
  {
   "cell_type": "code",
   "execution_count": null,
   "outputs": [],
   "source": [],
   "metadata": {
    "collapsed": false
   }
  }
 ],
 "metadata": {
  "kernelspec": {
   "display_name": "Python 3",
   "language": "python",
   "name": "python3"
  },
  "language_info": {
   "codemirror_mode": {
    "name": "ipython",
    "version": 2
   },
   "file_extension": ".py",
   "mimetype": "text/x-python",
   "name": "python",
   "nbconvert_exporter": "python",
   "pygments_lexer": "ipython2",
   "version": "2.7.6"
  }
 },
 "nbformat": 4,
 "nbformat_minor": 0
}
