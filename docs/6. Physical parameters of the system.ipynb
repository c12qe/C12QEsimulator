{
 "cells": [
  {
   "cell_type": "markdown",
   "source": [
    "### Physical parameters of the C12's system\n",
    "\n",
    "C12 quantum computer is based on optimized spin qubits. The spin qubit is realized from electrons trapped in a double quantum dot suspended on carbon nanotubes (CNTs) embedded in a silicon nanocircuit and microwave cavity.\n",
    "\n",
    "Different physical parameters influence the behavior of our simulator and, consequentially, our gates. Therefore, they can strongly influence the fidelity of the used gate set.\n"
   ],
   "metadata": {
    "collapsed": false
   }
  },
  {
   "cell_type": "code",
   "execution_count": 5,
   "outputs": [],
   "source": [
    "from c12simulator_clients.api.client import Request\n",
    "\n",
    "TOKEN = \"db0ccae9b0dfccba90a534ad40802d40aa57d395bdac4e3a0bfcaaa7db0a3c2f\"\n",
    "\n",
    "\n",
    "# Create the request instance\n",
    "# Constructor of the Request class also accepts the verbose parameter, which can be use for more detailed output of the methods.\n",
    "\n",
    "request = Request(auth_token=TOKEN, verbose=False)"
   ],
   "metadata": {
    "collapsed": false,
    "ExecuteTime": {
     "end_time": "2023-11-21T10:35:17.698613Z",
     "start_time": "2023-11-21T10:35:17.696344Z"
    }
   }
  },
  {
   "cell_type": "code",
   "execution_count": 2,
   "outputs": [
    {
     "name": "stdout",
     "output_type": "stream",
     "text": [
      "B_sym = 0.245 (T)\n",
      "B_asym = 0.245 (T)\n",
      "epsilon = 0.0 (V)\n",
      "half_delta_g = 300e6 (Hz)\n",
      "omega_b = 14.1e6 (Hz)\n",
      "omega_t = 19.9e9 (Hz)\n",
      "omega_s = 12.3e9 (Hz)\n",
      "lambda_nu_b = 1.5e-05 (Hz)\n",
      "lambda_nu_t = 5e-08 (Hz)\n",
      "lambda_nu_s = 2e-07 (Hz)\n",
      "Q_c = 1e4 (none)\n",
      "Q_nu_b = 1e2 (none)\n",
      "Q_nu_t = 1e5 (none)\n",
      "Q_nu_s = 1e5 (none)\n",
      "T = 20e-3 (K)\n",
      "Omega_d = 500e6 (Hz)\n",
      "power_spect_const = 0.00117 (GHz^2)\n"
     ]
    }
   ],
   "source": [
    "# Getting the physical parameters of the C12 system\n",
    "physical_params = request.get_params()\n",
    "\n",
    "for key, value in physical_params.items():\n",
    "    print(f\"{key} = {value['value']} ({value['unit']})\")"
   ],
   "metadata": {
    "collapsed": false
   }
  },
  {
   "cell_type": "markdown",
   "source": [
    "Changing the physical parameters and passing them when running the simulation is achievable. By doing that, the simulation will be run using the given set of parameters. You can only pass the parameters you want to change. The other ones are going to have the default value.\n",
    "\n",
    "It is crucial to notice that changing the physical parameters permanently is impossible! They will have default values until they are changed during the start of the simulation.\n"
   ],
   "metadata": {
    "collapsed": false
   }
  },
  {
   "cell_type": "code",
   "execution_count": 4,
   "outputs": [
    {
     "ename": "QiskitBackendNotFoundError",
     "evalue": "'There is no available backends.'",
     "output_type": "error",
     "traceback": [
      "\u001B[0;31m---------------------------------------------------------------------------\u001B[0m",
      "\u001B[0;31mQiskitBackendNotFoundError\u001B[0m                Traceback (most recent call last)",
      "Cell \u001B[0;32mIn[4], line 10\u001B[0m\n\u001B[1;32m      7\u001B[0m configs \u001B[38;5;241m=\u001B[39m UserConfigs\u001B[38;5;241m.\u001B[39mparse_obj({\u001B[38;5;124m\"\u001B[39m\u001B[38;5;124mtoken\u001B[39m\u001B[38;5;124m\"\u001B[39m : user_auth_token, \u001B[38;5;124m\"\u001B[39m\u001B[38;5;124mverbose\u001B[39m\u001B[38;5;124m\"\u001B[39m: \u001B[38;5;28;01mFalse\u001B[39;00m})\n\u001B[1;32m      9\u001B[0m c12_simulator_provider \u001B[38;5;241m=\u001B[39m C12SimProvider(configs)\n\u001B[0;32m---> 10\u001B[0m c12_simulator_backend \u001B[38;5;241m=\u001B[39m \u001B[43mc12_simulator_provider\u001B[49m\u001B[38;5;241;43m.\u001B[39;49m\u001B[43mget_backend\u001B[49m\u001B[43m(\u001B[49m\u001B[38;5;124;43m'\u001B[39;49m\u001B[38;5;124;43mc12sim\u001B[39;49m\u001B[38;5;124;43m'\u001B[39;49m\u001B[43m)\u001B[49m\n\u001B[1;32m     12\u001B[0m \u001B[38;5;28;01mfrom\u001B[39;00m \u001B[38;5;21;01mqiskit\u001B[39;00m \u001B[38;5;28;01mimport\u001B[39;00m QuantumCircuit\n\u001B[1;32m     14\u001B[0m circuit \u001B[38;5;241m=\u001B[39m QuantumCircuit(\u001B[38;5;241m2\u001B[39m)\n",
      "File \u001B[0;32m~/Desktop/Projects/simulator/C12QEsimulator/src/c12_callisto_clients/qiskit/c12sim_provider.py:71\u001B[0m, in \u001B[0;36mC12SimProvider.get_backend\u001B[0;34m(self, name, **kwargs)\u001B[0m\n\u001B[1;32m     68\u001B[0m list_backends \u001B[38;5;241m=\u001B[39m \u001B[38;5;28mself\u001B[39m\u001B[38;5;241m.\u001B[39mbackends(name)\n\u001B[1;32m     70\u001B[0m \u001B[38;5;28;01mif\u001B[39;00m \u001B[38;5;28mlen\u001B[39m(list_backends) \u001B[38;5;241m==\u001B[39m \u001B[38;5;241m0\u001B[39m:\n\u001B[0;32m---> 71\u001B[0m     \u001B[38;5;28;01mraise\u001B[39;00m QiskitBackendNotFoundError(\u001B[38;5;124m\"\u001B[39m\u001B[38;5;124mThere is no available backends.\u001B[39m\u001B[38;5;124m\"\u001B[39m)\n\u001B[1;32m     73\u001B[0m \u001B[38;5;28;01mtry\u001B[39;00m:\n\u001B[1;32m     74\u001B[0m     properties \u001B[38;5;241m=\u001B[39m [item \u001B[38;5;28;01mfor\u001B[39;00m item \u001B[38;5;129;01min\u001B[39;00m list_backends \u001B[38;5;28;01mif\u001B[39;00m (name \u001B[38;5;129;01min\u001B[39;00m item[\u001B[38;5;124m\"\u001B[39m\u001B[38;5;124mbackend_name\u001B[39m\u001B[38;5;124m\"\u001B[39m])]\n",
      "\u001B[0;31mQiskitBackendNotFoundError\u001B[0m: 'There is no available backends.'"
     ]
    }
   ],
   "source": [
    "# For more information see the notebooks 2 & 3\n",
    "from c12simulator_clients.user_configs import UserConfigs\n",
    "from c12simulator_clients.qiskit_back.c12sim_provider import C12SimProvider\n",
    "\n",
    "user_auth_token = \"db0ccae9b0dfccba90a534ad40802d40aa57d395bdac4e3a0bfcaaa7db0a3c2f\"\n",
    "configs = UserConfigs.parse_obj({\"token\" : user_auth_token, \"verbose\": False})\n",
    "c12_simulator_provider = C12SimProvider(configs)\n",
    "c12_simulator_backend = c12_simulator_provider.get_backend('c12sim')\n",
    "\n",
    "from qiskit import QuantumCircuit\n",
    "\n",
    "circuit = QuantumCircuit(2)\n",
    "circuit.h(0)\n",
    "circuit.cx(0, 1)\n"
   ],
   "metadata": {
    "collapsed": false,
    "ExecuteTime": {
     "end_time": "2023-11-21T10:32:42.750742Z",
     "start_time": "2023-11-21T10:32:42.647415Z"
    }
   }
  },
  {
   "cell_type": "code",
   "execution_count": 4,
   "outputs": [
    {
     "name": "stdout",
     "output_type": "stream",
     "text": [
      "C12 simulation counts: {'01 ': 4, '00 ': 5005, '11 ': 4991}\n"
     ]
    }
   ],
   "source": [
    "# To change the physical parameters we need to create a python dictionary with the key (parm name) and value (param value) pairs\n",
    "\n",
    "new_params = {\n",
    "    \"Omega_d\" : 600e6\n",
    "}\n",
    "\n",
    "c12_job = c12_simulator_backend.run(circuit, shots=10000, physical_params=str(new_params))\n",
    "c12_result = c12_job.result()\n",
    "c12_counts = c12_result.get_counts()\n",
    "print(f\"C12 simulation counts: {c12_counts}\")"
   ],
   "metadata": {
    "collapsed": false
   }
  },
  {
   "cell_type": "code",
   "execution_count": 7,
   "outputs": [
    {
     "name": "stdout",
     "output_type": "stream",
     "text": [
      "Error: 1010 \n"
     ]
    }
   ],
   "source": [
    "# Also, it  is possible that some given parameters are outside the ranges that are making them physically impossible\n",
    "from c12simulator_clients.qiskit_back.exceptions import C12SimJobError\n",
    "new_params = {\n",
    "    \"Omega_d\" : 600e10\n",
    "}\n",
    "\n",
    "c12_job = c12_simulator_backend.run(circuit, shots=10000, physical_params=str(new_params))\n",
    "try:\n",
    "    c12_result = c12_job.result()\n",
    "    c12_counts = c12_result.get_counts()\n",
    "    print(f\"C12 simulation counts: {c12_counts}\")\n",
    "except C12SimJobError:\n",
    "    print(c12_job.error_message()) # Error number 1010 is because the values for the parameters are outside the range"
   ],
   "metadata": {
    "collapsed": false
   }
  }
 ],
 "metadata": {
  "kernelspec": {
   "display_name": "Python 3",
   "language": "python",
   "name": "python3"
  },
  "language_info": {
   "codemirror_mode": {
    "name": "ipython",
    "version": 2
   },
   "file_extension": ".py",
   "mimetype": "text/x-python",
   "name": "python",
   "nbconvert_exporter": "python",
   "pygments_lexer": "ipython2",
   "version": "2.7.6"
  }
 },
 "nbformat": 4,
 "nbformat_minor": 0
}
