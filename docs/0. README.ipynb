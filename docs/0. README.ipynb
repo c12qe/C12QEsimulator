{
 "cells": [
  {
   "attachments": {},
   "cell_type": "markdown",
   "metadata": {
    "collapsed": false
   },
   "source": [
    "## Callisto\n",
    "\n",
    "\n",
    "Callisto is the first quantum emulator of the future <b>C12</b> quantum computers.\n",
    "Based on the experimentally measured <b>C12</b> qubit, it offers an emulator with more qubits and more availability than our quantum processors in development.\n",
    "It provides tools for composing quantum circuits, running simulations and comparing both the ideal and realistic outcomes.\n",
    "\n",
    "\n",
    "It aims to be a companion tool for developing gate-based quantum circuits, testing them in a realistic environment & studying their scaling laws.\n",
    "\n",
    "If you find any bugs or if you have any suggestions feel free to send us a mail to <u>  <i> emulator@c12qe.com</i></u>.\n",
    "\n",
    "We are so happy and proud to let you experiment with software that imitates the new generation of quantum computers.\n",
    "\n",
    "### About Callisto\n",
    "<b>C12</b> Callisto is software that imitates our real quantum machine in development.\n",
    "It is made on top of the Qiskit library with a proprietary noise model corresponding to our system and with the physical parameters of real devices.\n",
    "This offers realistic noisy simulations of runs on real devices.\n",
    "The errors that occur during the execution of a quantum circuit have been modelled in Callisto.\n",
    "\n",
    "Quantum errors are due to decoherence channels.\n",
    "This first version includes decoherence from charge noise, from phonon noise and from relaxation of the qubit through its quantum bus, a microwave resonator.\n",
    "Callisto offers additional features like mid-circuit measurement and noisy initialization.\n",
    "The quantum gate set of the current configuration is $R_X$, $R_Y$ and $R_Z$ for the 1Q gates and ISWAP for the 2Q gate.\n",
    "Any other gate will be transpiled into this basis gate set.\n",
    "\n",
    "Our physical parameters are based on the first quantum chip that <b>C12</b> will fabricate & release.\n",
    "For the moment, we offer one fixed configuration of Callisto.\n",
    "The chosen configuration leads to the following fidelities.\n",
    "\n",
    "<table align=\"center\" border=\"1\">\n",
    "<tr> <th> Gate </th> <th> Fidelity (%) </th> <th> Error rate </th> </tr>\n",
    "<tr> <th> $R_X$ </th> <td> 99.9989 </td> <td> 10<sup>-3</sup> </td> </tr>\n",
    "<tr> <th> $R_Y$ </th> <td> 99.9989 </td> <td> 10<sup>-3</sup> </td> </tr>\n",
    "<tr> <th> $R_Z$ </th> <td> 100 </td> <td>0  </td> </tr>\n",
    "<tr> <th> iSWAP </th> <td> 99.6446 </td> <td> 3.5 * 10<sup>-1</sup> </td> </tr>\n",
    "</table>\n"
   ]
  },
  {
   "attachments": {},
   "cell_type": "markdown",
   "metadata": {
    "collapsed": false
   },
   "source": [
    "### Some useful information\n",
    "\n",
    "1. To logout you have to go to menu File -> Log out. It is important to notice that logging out won't shut down your server! It will remain active until a specified amount of inactivity time. So, please close your server before logging out.\n",
    "2. To close a server. Go to File -> Hub Control Panel and then click Stop my Server button."
   ]
  },
  {
   "cell_type": "code",
   "execution_count": null,
   "metadata": {
    "collapsed": false
   },
   "outputs": [],
   "source": []
  }
 ],
 "metadata": {
  "kernelspec": {
   "display_name": "Python 3",
   "language": "python",
   "name": "python3"
  },
  "language_info": {
   "codemirror_mode": {
    "name": "ipython",
    "version": 2
   },
   "file_extension": ".py",
   "mimetype": "text/x-python",
   "name": "python",
   "nbconvert_exporter": "python",
   "pygments_lexer": "ipython2",
   "version": "2.7.6"
  }
 },
 "nbformat": 4,
 "nbformat_minor": 0
}
