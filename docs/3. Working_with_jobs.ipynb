{
 "cells": [
  {
   "cell_type": "markdown",
   "source": [
    "### Working with a jobs\n",
    "\n",
    "The job class obtained after running a QuantumCircuit has interesting properties that can be used."
   ],
   "metadata": {
    "collapsed": false
   }
  },
  {
   "cell_type": "code",
   "execution_count": 1,
   "outputs": [
    {
     "data": {
      "text/plain": "     ┌───┐     \nq_0: ┤ H ├──■──\n     └───┘┌─┴─┐\nq_1: ─────┤ X ├\n          └───┘",
      "text/html": "<pre style=\"word-wrap: normal;white-space: pre;background: #fff0;line-height: 1.1;font-family: &quot;Courier New&quot;,Courier,monospace\">     ┌───┐     \nq_0: ┤ H ├──■──\n     └───┘┌─┴─┐\nq_1: ─────┤ X ├\n          └───┘</pre>"
     },
     "execution_count": 1,
     "metadata": {},
     "output_type": "execute_result"
    }
   ],
   "source": [
    "# !python -m pip install --index-url https://test.pypi.org/simple/ --extra-index-url https://pypi.org/simple c12simulator-clients -q\n",
    "\n",
    "from c12simulator_clients.user_configs import UserConfigs\n",
    "from c12simulator_clients.qiskit_back.c12sim_provider import C12SimProvider\n",
    "from qiskit import QuantumCircuit\n",
    "\n",
    "TOKEN = \"db0ccae9b0dfccba90a534ad40802d40aa57d395bdac4e3a0bfcaaa7db0a3c2f\"\n",
    "configs = UserConfigs.parse_obj({\"token\" : TOKEN})\n",
    "\n",
    "c12_simulator_provider = C12SimProvider(configs)\n",
    "c12_simulator_backend = c12_simulator_provider.get_backend('c12sim')\n",
    "\n",
    "\n",
    "circuit = QuantumCircuit(2)\n",
    "circuit.h(0)\n",
    "circuit.cx(0, 1)\n",
    "\n",
    "circuit.draw()"
   ],
   "metadata": {
    "collapsed": false
   }
  },
  {
   "cell_type": "markdown",
   "source": [
    "Two main methods available for each Job instance are job_id() and status().\n",
    "\n",
    "1. `job_id()` method returns the unique identifier of a job as a UUID4 string (\n",
    " a universally unique identifier (UUID), version 4,  is a 36-character alphanumeric random generated string ). This id can be used for later assessment of the job properties.\n",
    "\n",
    "2. `status()` method is used to get the status of a job execution as an instance of JobStatus class. Available statuses are:\n",
    "    - `QUEUED` = Job is queued. It waits for execution\n",
    "    - `RUNNING` = Job is currently running.\n",
    "    - `CANCELLED` = Job has been canceled.\n",
    "    - `DONE` = Job has been successfully done.\n",
    "    - `ERROR` = There has been an error during the execution of a job.\n",
    "\n",
    "The status of a running job can be changed depending on the current state of job execution.\n"
   ],
   "metadata": {
    "collapsed": false
   }
  },
  {
   "cell_type": "code",
   "execution_count": 2,
   "outputs": [
    {
     "name": "stdout",
     "output_type": "stream",
     "text": [
      "Job id: 089143ce-78bd-4d9c-824c-debd413e8e53\n",
      "Status: JobStatus.QUEUED\n"
     ]
    }
   ],
   "source": [
    "c12_job = c12_simulator_backend.run(circuit)\n",
    "print(f\"Job id: {c12_job.job_id()}\") # Get a job UUID\n",
    "print(f\"Status: {c12_job.status()}\")  # Get a current job status"
   ],
   "metadata": {
    "collapsed": false
   }
  },
  {
   "cell_type": "markdown",
   "source": [
    "The result of a job execution can be obtained with the `result()` method. This method can have one optional argument (timeout). The `timeout` argument specifies how long the method will wait for the execution of the task. If the time limit is exceeded, the `C12SimJobError` exception is raised. If we do not specify this argument, its default value is None, meaning the method will block until the simulation is finished.\n",
    "\n",
    "Another way to get the results is to check the job status periodically until it is `DONE`  and then call the `result()` function."
   ],
   "metadata": {
    "collapsed": false
   }
  },
  {
   "cell_type": "code",
   "execution_count": 3,
   "outputs": [
    {
     "name": "stdout",
     "output_type": "stream",
     "text": [
      "089143ce-78bd-4d9c-824c-debd413e8e53: JobStatus.QUEUED\n",
      "089143ce-78bd-4d9c-824c-debd413e8e53: JobStatus.RUNNING\n",
      "089143ce-78bd-4d9c-824c-debd413e8e53: JobStatus.RUNNING\n",
      "089143ce-78bd-4d9c-824c-debd413e8e53: JobStatus.RUNNING\n",
      "089143ce-78bd-4d9c-824c-debd413e8e53: JobStatus.RUNNING\n",
      "089143ce-78bd-4d9c-824c-debd413e8e53: JobStatus.RUNNING\n",
      "089143ce-78bd-4d9c-824c-debd413e8e53: JobStatus.RUNNING\n",
      "089143ce-78bd-4d9c-824c-debd413e8e53: JobStatus.RUNNING\n",
      "089143ce-78bd-4d9c-824c-debd413e8e53: JobStatus.RUNNING\n",
      "089143ce-78bd-4d9c-824c-debd413e8e53: JobStatus.DONE\n",
      "{'00 ': 505, '11 ': 519}\n"
     ]
    }
   ],
   "source": [
    "from qiskit.providers import JobStatus\n",
    "import time\n",
    "job_final_states = [JobStatus.DONE, JobStatus.ERROR, JobStatus.CANCELLED]\n",
    "c12_job_id = c12_job.job_id()\n",
    "while True:\n",
    "    job_status = c12_job.status()\n",
    "    print(f'{c12_job_id}: {job_status}')\n",
    "    if job_status in job_final_states:\n",
    "        break\n",
    "    time.sleep(5) # Wait 5 s\n",
    "\n",
    "if c12_job.status() == JobStatus.DONE:\n",
    "    c12_result = c12_job.result()\n",
    "    print(c12_result.get_counts())"
   ],
   "metadata": {
    "collapsed": false
   }
  },
  {
   "cell_type": "code",
   "execution_count": 4,
   "outputs": [
    {
     "name": "stdout",
     "output_type": "stream",
     "text": [
      "{'01 ': 1, '11 ': 526, '00 ': 497}\n"
     ]
    }
   ],
   "source": [
    "# Running a job that will block until finished\n",
    "c12_job = c12_simulator_backend.run(circuit)\n",
    "c12_result = c12_job.result()\n",
    "if c12_job.status() == JobStatus.DONE:\n",
    "    print(c12_result.get_counts())"
   ],
   "metadata": {
    "collapsed": false
   }
  },
  {
   "cell_type": "code",
   "execution_count": 5,
   "outputs": [
    {
     "name": "stdout",
     "output_type": "stream",
     "text": [
      "Timeout!\n",
      " Last status: JobStatus.RUNNING\n"
     ]
    }
   ],
   "source": [
    "# Getting a job result with a timeout argument specified\n",
    "from c12simulator_clients.qiskit_back.exceptions import C12SimJobError\n",
    "c12_job = c12_simulator_backend.run(circuit)\n",
    "\n",
    "try:\n",
    "    c12_result = c12_job.result(timeout=15) # it will raise a C12SimJobError as it won't be finished in 15s\n",
    "except C12SimJobError:\n",
    "    print(\"Timeout!\")\n",
    "    print(f\" Last status: {c12_job.status()}\")"
   ],
   "metadata": {
    "collapsed": false
   }
  },
  {
   "cell_type": "markdown",
   "source": [
    "### Getting previous jobs\n",
    "\n",
    "Next, extremely useful functionality is the possibility to obtain all jobs run on the system by a specific user. Using this functionality, the user can get the results of old jobs.\n",
    "\n",
    "This can be achieved by calling the `jobs()` function on the backend instance. This function accepts two arguments: `limit` and `offset`. We can specify how many jobs we want to get with a `limit` argument. Likewise, we can set the `offset` from the first job with an offset argument. With these arguments, pagination is easily achieved."
   ],
   "metadata": {
    "collapsed": false
   }
  },
  {
   "cell_type": "code",
   "execution_count": 6,
   "outputs": [
    {
     "name": "stdout",
     "output_type": "stream",
     "text": [
      "1: 5fb57102-ca9e-45dd-875c-cc11a55ca073 Status: JobStatus.DONE Counts: {'01 ': 7, '10 ': 10, '00 ': 4974, '11 ': 5009}\n",
      "2: 796158fa-d61b-4dee-8d58-8b1d51897ae5 Status: JobStatus.DONE Counts: {'11 ': 2, '01 ': 8, '10 ': 10, '00 ': 9980}\n",
      "3: 498c5318-5117-4838-bed9-e177be4fc4e0 Status: JobStatus.DONE Counts: {'01 ': 1, '00 ': 503, '11 ': 520}\n",
      "4: ac29c1ad-a5f6-496d-b8b6-5eb25e9bffe3 Status: JobStatus.DONE Counts: {'000 ': 264, '111 ': 264, '011 ': 247, '100 ': 249}\n",
      "5: 42ea332d-7239-4d77-8ec4-127992208d7e Status: JobStatus.DONE Counts: {'00 ': 46, '11 ': 54}\n",
      "6: 8bbf4762-c376-438f-9fb2-f3d68bcf316b Status: JobStatus.DONE Counts: {'01 ': 8, '10 ': 6, '00 ': 5019, '11 ': 4967}\n",
      "7: d6c76fd5-b951-419b-8fb7-5baf52251d60 Status: JobStatus.DONE Counts: {'11 ': 1, '01 ': 7, '10 ': 19, '00 ': 9973}\n",
      "8: f1a219cd-a717-4e4c-9c7c-8d53e2125edf Status: JobStatus.DONE Counts: {'11 ': 493, '10 ': 1, '00 ': 530}\n",
      "9: 75a04f40-6c08-4967-aa63-14113faa7481 Status: JobStatus.DONE Counts: {'10 ': 2, '00 ': 516, '11 ': 506}\n",
      "10: b6eefcf3-fbd7-4319-8f2b-86aa9cd10036 Status: JobStatus.DONE Counts: {'01 ': 2, '10 ': 1, '00 ': 500, '11 ': 521}\n",
      "11: 997f68b9-bd1f-48ec-8338-2614c6ca45ed Status: JobStatus.DONE Counts: {'101 ': 1, '111 ': 264, '011 ': 263, '010 ': 1, '000 ': 244, '100 ': 251}\n",
      "12: 2e687eef-4b6d-4ebb-a22f-1c21d088e56d Status: JobStatus.DONE Counts: {'11 ': 8, '00 ': 7, '10 ': 4905, '01 ': 5080}\n",
      "13: 30e8debf-c3a7-4d22-86e0-1bf566562150 Status: JobStatus.DONE Counts: {'01 ': 9, '10 ': 9, '00 ': 4888, '11 ': 5094}\n",
      "14: 44b8a742-91ba-4dee-a1f0-c04c20a32f46 Status: JobStatus.DONE Counts: {'11 ': 2, '01 ': 7, '10 ': 13, '00 ': 9978}\n",
      "15: 7b0bb738-0d69-43e6-827d-c03f32d904f3 Status: JobStatus.DONE Counts: {'01 ': 4, '10 ': 4, '00 ': 5066, '11 ': 4926}\n",
      "16: 8605dfd7-3d15-44e5-b98f-f1115779d896 Status: JobStatus.DONE Counts: {'01 ': 3, '10 ': 5, '00 ': 5088, '11 ': 4904}\n",
      "17: a9c90432-df62-4a12-8fd1-bd828b02923f Status: JobStatus.DONE Counts: {'01 ': 5, '10 ': 7, '00 ': 5131, '11 ': 4857}\n",
      "18: cf8007fa-d972-46bb-80f0-4e4ed898c5af Status: JobStatus.DONE Counts: {'11 ': 4, '01 ': 8, '10 ': 14, '00 ': 9974}\n",
      "19: 0e606d86-8c02-452d-9efa-4c95999f7df7 Status: JobStatus.DONE Counts: {'01 ': 8, '10 ': 7, '00 ': 4950, '11 ': 5035}\n",
      "20: a7020f1a-665c-47dc-869c-bb8a2f75390b Status: JobStatus.DONE Counts: {'01 ': 12, '10 ': 6, '00 ': 5026, '11 ': 4956}\n",
      "21: fc0b82cb-7b99-41c2-a6ea-a873645a57bb Status: JobStatus.DONE Counts: {'01 ': 7, '10 ': 8, '00 ': 4999, '11 ': 4986}\n",
      "22: e72240a8-d38f-4ec2-b424-e2c252cc562c Status: JobStatus.DONE Counts: {'01 ': 8, '11 ': 5020, '10 ': 2, '00 ': 4970}\n",
      "23: a88ccfe0-f88c-4558-b34d-115c7786e71b Status: JobStatus.DONE Counts: {'11 ': 3, '01 ': 3, '10 ': 5, '00 ': 9989}\n",
      "24: a2283e4a-69db-4e54-ae97-7e85c8d69b43 Status: JobStatus.DONE Counts: {'01 ': 6, '10 ': 4, '00 ': 4970, '11 ': 5020}\n",
      "25: d97bbe2f-d9f3-4da6-a5b8-a137d172483f Status: JobStatus.DONE Counts: {'11 ': 1, '01 ': 6, '10 ': 10, '00 ': 9983}\n",
      "26: adefd813-1b50-4eb5-a102-b91594e1e8dd Status: JobStatus.DONE Counts: {'11 ': 7, '01 ': 4899, '00 ': 12, '10 ': 5082}\n",
      "27: e4e5582c-8a8a-41b2-9357-54d206c21864 Status: JobStatus.DONE Counts: {'01 ': 5, '10 ': 7, '00 ': 4956, '11 ': 5032}\n",
      "28: 82d38ab1-0614-499e-a1e7-5c9dec8d0512 Status: JobStatus.DONE Counts: {'01 ': 1, '11 ': 513, '10 ': 1, '00 ': 509}\n",
      "29: f16ab6c2-9177-47b4-8539-dd8f6c13bb20 Status: JobStatus.DONE Counts: {'11 ': 46, '00 ': 54}\n",
      "30: 99a3bd45-1927-4d13-867a-e102d9773ecf Status: JobStatus.DONE Counts: {'01 ': 11, '11 ': 5053, '10 ': 4, '00 ': 4932}\n",
      "31: 50b21c93-5e84-4e0a-911d-5ccc06efb9eb Status: JobStatus.DONE Counts: {'01 ': 1, '10 ': 2, '00 ': 498, '11 ': 523}\n",
      "32: 665e820d-6d5f-4272-92a8-c6fb63b52dc2 Status: JobStatus.DONE Counts: {'11 ': 2, '01 ': 14, '10 ': 12, '00 ': 9972}\n",
      "33: b555fd42-929c-4f56-858c-ce196d21d6c8 Status: JobStatus.DONE Counts: {'11 ': 54, '00 ': 46}\n",
      "34: 290825a0-175a-455f-a6fa-7f2c5bac6da4 Status: JobStatus.DONE Counts: {'00 ': 45, '11 ': 55}\n",
      "35: 2473f519-3ceb-4c5e-b36f-4b5e3f996b09 Status: JobStatus.DONE Counts: {'00 ': 48, '11 ': 52}\n",
      "36: d4faced7-86fa-4072-8360-c22931eabc5d Status: JobStatus.DONE Counts: {'01 ': 4, '10 ': 5, '00 ': 5069, '11 ': 4922}\n",
      "37: b2fe0eb2-129b-4454-b494-416190f93965 Status: JobStatus.DONE Counts: {'01 ': 2, '00 ': 519, '11 ': 503}\n",
      "38: ece22fa0-2342-4bf9-8691-a4f874727215 Status: JobStatus.DONE Counts: {'11 ': 52, '00 ': 48}\n",
      "39: 7598fc3b-08c7-4ac2-b412-e8cb57872876 Status: JobStatus.DONE Counts: {'11 ': 9, '01 ': 4892, '00 ': 9, '10 ': 5090}\n",
      "40: d287199b-d9ae-4ef9-8aa4-4eda49bcb8c8 Status: JobStatus.DONE Counts: {'11 ': 4, '01 ': 7, '10 ': 9, '00 ': 9980}\n",
      "41: 584d1b18-c7fd-4c7a-839e-ebc4dd25dfeb Status: JobStatus.DONE Counts: {'01 ': 1, '00 ': 515, '11 ': 508}\n",
      "42: 83c10725-62f9-4a7d-b90f-eca0e67765d1 Status: JobStatus.DONE Counts: {'01 ': 10, '11 ': 4995, '10 ': 6, '00 ': 4989}\n",
      "43: d8d876b5-661b-424b-89b6-6d45b4ead38a Status: JobStatus.DONE Counts: {'11 ': 516, '00 ': 508}\n",
      "44: eff90f9f-d8bf-42a6-9d7d-7c541e125fe1 Status: JobStatus.DONE Counts: {'11 ': 46, '00 ': 54}\n",
      "45: 02115036-a210-42a4-9e37-b2dcb1468f6d Status: JobStatus.DONE Counts: {'11 ': 3, '01 ': 10, '10 ': 16, '00 ': 9971}\n",
      "46: e3ce8346-869d-4813-9fdd-b38e03d99183 Status: JobStatus.DONE Counts: {'11 ': 525, '00 ': 499}\n",
      "47: 3579f7f1-0762-429d-849f-4fadfcac84c2 Status: JobStatus.DONE Counts: {'01 ': 6, '11 ': 4877, '10 ': 4, '00 ': 5113}\n",
      "48: 79c793aa-a30c-448d-8138-f95d53753ae5 Status: JobStatus.DONE Counts: {'01 ': 2, '11 ': 515, '10 ': 1, '00 ': 506}\n",
      "49: 1f570cbf-6b42-4a06-be7f-a86a2b5524b9 Status: JobStatus.DONE Counts: {'11 ': 6, '00 ': 6, '10 ': 4965, '01 ': 5023}\n",
      "50: 3059ef39-97dd-4478-88d0-03783bbda5a1 Status: JobStatus.DONE Counts: {'11 ': 12, '01 ': 5021, '00 ': 6, '10 ': 4961}\n",
      "51: 2bdb750c-9582-4c14-8e9d-cbb0ef41038b Status: JobStatus.DONE Counts: {'11 ': 10, '01 ': 4975, '00 ': 13, '10 ': 5002}\n",
      "52: 51bee741-92c2-4ead-ba49-263be666435b Status: JobStatus.DONE Counts: {'11 ': 11, '00 ': 8, '10 ': 4930, '01 ': 5051}\n",
      "53: 4fe8d234-75f1-44bb-aea5-364d6cd3dc7a Status: JobStatus.DONE Counts: {'11 ': 522, '10 ': 1, '00 ': 501}\n",
      "54: 31da0b4c-33a6-46d7-b1a5-7b523cd4b0d0 Status: JobStatus.DONE Counts: {'01 ': 1, '11 ': 508, '00 ': 515}\n",
      "55: 53f427d0-e6cd-4454-ab15-8eed6b66907c Status: JobStatus.DONE Counts: {'10 ': 1, '00 ': 490, '11 ': 533}\n",
      "56: ddcd4469-3903-4b90-b5d8-6759365fb483 Status: JobStatus.DONE Counts: {'01 ': 9, '11 ': 4976, '10 ': 2, '00 ': 5013}\n",
      "57: 511138d6-91d9-41a6-8c00-7c25ebca72dd Status: JobStatus.DONE Counts: {'00 ': 513, '11 ': 511}\n",
      "58: d0db6896-335c-40b5-8c1b-66cfe40f10b8 Status: JobStatus.DONE Counts: {'01 ': 2, '11 ': 5013, '10 ': 7, '00 ': 4978}\n",
      "59: 4fca0500-793c-40c5-9d51-c789a1ee2820 Status: JobStatus.DONE Counts: {'11 ': 7, '01 ': 10, '10 ': 11, '00 ': 9972}\n",
      "60: 13b9ab2e-79ce-42ba-be59-5c115a5c10ef Status: JobStatus.DONE Counts: {'01 ': 1, '11 ': 493, '00 ': 530}\n",
      "61: e2bb0462-7b6f-4f51-8f6b-be8a1653b23d Status: JobStatus.DONE Counts: {'11 ': 528, '10 ': 2, '00 ': 494}\n",
      "62: ed505ff9-fdcc-4c36-8e21-f6fa909d0733 Status: JobStatus.DONE Counts: {'10 ': 2, '00 ': 533, '11 ': 489}\n",
      "63: 3d09270e-1109-495a-8222-ba5049c0ad59 Status: JobStatus.DONE Counts: {'01 ': 1, '11 ': 520, '10 ': 1, '00 ': 502}\n",
      "64: 9f360c45-d6c9-4d5c-8573-8c42a575eadb Status: JobStatus.DONE Counts: {'001 ': 1, '000 ': 219, '011 ': 277, '111 ': 257, '100 ': 270}\n",
      "65: 82de15ae-4932-4a90-b5ed-c78a384535fd Status: JobStatus.DONE Counts: {'11 ': 2, '00 ': 6, '10 ': 4974, '01 ': 5018}\n",
      "66: 1ac4d9dd-c595-4510-a071-ad1ea5e7004a Status: JobStatus.DONE Counts: {'01 ': 6, '11 ': 5056, '10 ': 6, '00 ': 4932}\n",
      "67: 96684538-e25b-4b02-abb1-45bb0eeba2e0 Status: JobStatus.DONE Counts: {'01 ': 8, '11 ': 4922, '10 ': 5, '00 ': 5065}\n",
      "68: 26a92e1d-e540-43fa-b3f1-79dad9ce19c0 Status: JobStatus.DONE Counts: {'01 ': 6, '11 ': 5024, '10 ': 4, '00 ': 4966}\n",
      "69: 28e2b00b-2df7-44c6-a206-1682dcc2f4f9 Status: JobStatus.DONE Counts: {'11 ': 541, '10 ': 1, '00 ': 482}\n",
      "70: 38a0c548-5b6e-4e42-ac38-249faf7e53bf Status: JobStatus.DONE Counts: {'01 ': 7, '10 ': 4, '00 ': 4917, '11 ': 5072}\n",
      "71: 403e8a7a-6f44-4912-ba49-3f0635a9961c Status: JobStatus.DONE Counts: {'01 ': 2, '00 ': 498, '11 ': 524}\n",
      "72: ab3d8b52-0764-43d4-849d-0e976eae1074 Status: JobStatus.DONE Counts: {'01 ': 2, '11 ': 510, '00 ': 512}\n",
      "73: f6955702-bf42-4cf4-8086-b3780e6c345a Status: JobStatus.DONE Counts: {'01 ': 1, '11 ': 1023}\n",
      "74: 9ebff2db-3758-4072-808b-b01699a9236b Status: JobStatus.DONE Counts: {'01 ': 1, '11 ': 1023}\n",
      "75: f9ecae35-75f1-47bb-9b5b-01ec4bd6700b Status: JobStatus.DONE Counts: {'01 ': 5, '10 ': 7, '00 ': 5117, '11 ': 4871}\n",
      "76: 27daaeb4-1f91-48b2-b477-37c9ef3e99f1 Status: JobStatus.DONE Counts: {'01 ': 6, '10 ': 9, '00 ': 4970, '11 ': 5015}\n",
      "77: 1c15b84d-0699-4ac3-a6fe-fbf81441c2e0 Status: JobStatus.DONE Counts: {'11 ': 1, '01 ': 8, '10 ': 9, '00 ': 9982}\n",
      "78: 0da44c8d-cad0-46e5-82fe-b8f3ffe47f44 Status: JobStatus.DONE Counts: {'11 ': 3, '01 ': 10, '10 ': 14, '00 ': 9973}\n",
      "79: c6bf7e11-e3da-4107-8987-d2e8e6137d3e Status: JobStatus.DONE Counts: {'11 ': 1, '01 ': 12, '10 ': 11, '00 ': 9976}\n",
      "80: 38fcda38-8db1-469a-b357-a9a3e62d313f Status: JobStatus.DONE Counts: {'01 ': 7, '11 ': 5018, '10 ': 3, '00 ': 4972}\n",
      "81: 8310ea70-1164-458f-b503-65bec1925510 Status: JobStatus.DONE Counts: {'01 ': 6, '10 ': 7, '00 ': 4968, '11 ': 5019}\n",
      "82: 8caf41bc-fd4e-43a1-8db7-8ab30c01d0ba Status: JobStatus.DONE Counts: {'0 ': 4, '1 ': 9996}\n",
      "83: d8ee2653-335b-4ed1-b560-5277fb24e3bd Status: JobStatus.DONE Counts: {'0 ': 10000}\n",
      "84: 4bd9007f-7cca-4ca2-a16b-03e0641b9547 Status: JobStatus.DONE Counts: {'0 ': 4946, '1 ': 5054}\n",
      "85: 83dc97bc-a931-45c1-b975-119193f96eea Status: JobStatus.DONE Counts: {'0 ': 10000}\n",
      "86: b3d45c20-b80b-44f5-90f3-21018f833f22 Status: JobStatus.DONE Counts: {'00 ': 10000}\n",
      "87: 1c215abb-1747-48f7-adb2-421654deeee1 Status: JobStatus.DONE Counts: {'00 ': 100000}\n",
      "88: 1471773d-06a3-40de-9eca-ed077a17992d Status: JobStatus.DONE Counts: {'10 ': 766, '00 ': 4357, '11 ': 4362, '01 ': 515}\n",
      "89: 0a02d6a8-ba7f-4a6e-8b1c-d82b481cdfbb Status: JobStatus.DONE Counts: {'01 ': 916, '11 ': 1496, '10 ': 1006, '00 ': 6582}\n",
      "90: e07be25f-f257-4029-ba21-8a53d93c1f50 Status: JobStatus.DONE Counts: {'01 ': 49, '11 ': 482, '10 ': 65, '00 ': 428}\n",
      "91: 73b48d67-3242-413d-a822-51872a426942 Status: JobStatus.DONE Counts: {'01 ': 55, '00 ': 431, '10 ': 83, '11 ': 455}\n",
      "92: 683108de-0ba6-47b3-ab1d-68776abc4aab Status: JobStatus.DONE Counts: {'01 ': 6, '10 ': 3, '00 ': 4980, '11 ': 5011}\n",
      "93: 938c2fc2-b9f6-4908-9346-0591fca316b6 Status: JobStatus.DONE Counts: {'11 ': 5081, '10 ': 2, '00 ': 4917}\n",
      "94: 2066db3b-3196-44ec-86c7-37c9a7e695a4 Status: JobStatus.DONE Counts: {'01 ': 537, '10 ': 801, '00 ': 4316, '11 ': 4346}\n",
      "95: 75603cf9-48bf-499e-bc71-f029879d170d Status: JobStatus.DONE Counts: {'01 ': 533, '11 ': 4362, '00 ': 4288, '10 ': 817}\n",
      "96: 03cedd78-e5a8-4957-a7aa-c6d88ab59d81 Status: JobStatus.DONE Counts: {'00 ': 50, '11 ': 50}\n",
      "97: 30d1465b-d38f-48f5-bbce-9feff1c80eb0 Status: JobStatus.DONE Counts: {'01 ': 503, '00 ': 4309, '10 ': 745, '11 ': 4443}\n",
      "98: 47f2487c-aceb-4743-9ea0-dbe9a164bd70 Status: JobStatus.DONE Counts: {'01 ': 508, '11 ': 4410, '10 ': 754, '00 ': 4328}\n",
      "99: 0d1b17b3-be32-4f7a-b209-bcbc42e208d4 Status: JobStatus.DONE Counts: {'11 ': 4376, '01 ': 543, '10 ': 822, '00 ': 4259}\n",
      "100: c58c5de9-3e2a-4323-a990-742c1df17e5a Status: JobStatus.DONE Counts: {'01 ': 483, '10 ': 774, '00 ': 4238, '11 ': 4505}\n",
      "101: 9d27f178-79ba-4940-8d37-7b98dac2de31 Status: JobStatus.DONE Counts: {'11 ': 4371, '10 ': 755, '00 ': 4361, '01 ': 513}\n",
      "102: a4226588-387a-49d2-98b7-0bdf55c39664 Status: JobStatus.DONE Counts: {'01 ': 501, '10 ': 781, '00 ': 4243, '11 ': 4475}\n",
      "103: 05611e47-ebed-4e3b-b1e7-cc43b6ccd0ac Status: JobStatus.DONE Counts: {'01 ': 523, '10 ': 791, '00 ': 4313, '11 ': 4373}\n",
      "104: 3983d8b2-53af-4a8f-944a-c13e32495dcd Status: JobStatus.DONE Counts: {'01 ': 518, '11 ': 4355, '00 ': 4310, '10 ': 817}\n",
      "105: 8ae50898-1df6-4124-a62b-420a6ad6186e Status: JobStatus.DONE Counts: {'11 ': 4392, '10 ': 754, '00 ': 4311, '01 ': 543}\n",
      "106: d00f21be-d800-4072-8d67-1022a3091a29 Status: JobStatus.DONE Counts: {'01 ': 518, '00 ': 4331, '10 ': 767, '11 ': 4384}\n",
      "107: f180e6be-db2a-4629-bc57-7dbe4290d0b9 Status: JobStatus.DONE Counts: {'01 ': 526, '00 ': 4211, '10 ': 810, '11 ': 4453}\n",
      "108: 0065431d-46f7-41ac-b849-0f39b27ce021 Status: JobStatus.DONE Counts: {'01 ': 3, '11 ': 5040, '10 ': 6, '00 ': 4951}\n",
      "109: 49203514-1924-489a-969e-07a83d17c5a0 Status: JobStatus.DONE Counts: {'01 ': 489, '00 ': 4358, '10 ': 778, '11 ': 4375}\n",
      "110: 5ee49c6a-1c73-4f01-bc5d-77dd4f45c30c Status: JobStatus.DONE Counts: {'01 ': 5, '10 ': 1, '00 ': 5018, '11 ': 4976}\n",
      "111: c43b7a04-e206-4517-a7bb-195d24fedf00 Status: JobStatus.DONE Counts: {'01 ': 496, '00 ': 4314, '10 ': 767, '11 ': 4423}\n",
      "112: 15c06c55-e79e-4bba-b0fb-e43642dcbffd Status: JobStatus.DONE Counts: {'01 ': 44, '11 ': 442, '10 ': 93, '00 ': 445}\n",
      "113: a4f93b3c-1777-4d34-82d8-cfdc18ec4107 Status: JobStatus.DONE Counts: {'01 ': 35, '10 ': 67, '00 ': 464, '11 ': 458}\n",
      "114: 7f2d19c4-685d-46a6-9a49-9587132398c3 Status: JobStatus.DONE Counts: {'001 ': 27, '110 ': 41, '101 ': 32, '010 ': 46, '000 ': 224, '111 ': 221, '011 ': 230, '100 ': 203}\n",
      "115: 12993719-3366-4e74-ad62-cb387d03664c Status: JobStatus.DONE Counts: {'11 ': 6, '00 ': 5, '10 ': 5056, '01 ': 4933}\n",
      "116: 7c6fe7f6-7370-4389-af34-16722442e2f0 Status: JobStatus.DONE Counts: {'11 ': 589, '00 ': 781, '10 ': 4322, '01 ': 4308}\n",
      "117: 272fbdae-205c-41a2-add4-b86aad2d2c3e Status: JobStatus.DONE Counts: {'10 ': 2488, '00 ': 2468, '01 ': 2550, '11 ': 2494}\n",
      "118: 56378f11-4b77-49da-9ddb-89d2d6d0821c Status: JobStatus.DONE Counts: {'11 ': 2523, '10 ': 2482, '00 ': 2537, '01 ': 2458}\n",
      "119: 90bfda5c-e775-454b-877e-90e7c70a0a93 Status: JobStatus.DONE Counts: {'01 ': 4, '11 ': 5027, '00 ': 4969}\n",
      "120: c05dfe99-8355-4107-8d1e-f87de17cfd27 Status: JobStatus.DONE Counts: {'01 ': 526, '11 ': 4347, '10 ': 809, '00 ': 4318}\n",
      "121: 735e316e-a69e-4e14-b56d-4f6dfcda187c Status: JobStatus.DONE Counts: {'01 ': 2506, '11 ': 2561, '00 ': 2468, '10 ': 2465}\n",
      "122: 634de710-f492-48bb-b407-9bf4d8be6994 Status: JobStatus.DONE Counts: {'10 ': 68, '00 ': 479, '01 ': 59, '11 ': 418}\n",
      "123: 74a5bcf3-acfe-4a7a-83a9-c307b75538df Status: JobStatus.DONE Counts: {'01 ': 49, '10 ': 92, '00 ': 432, '11 ': 451}\n",
      "124: 448cecf0-4fd5-4d78-a128-3954679cab67 Status: JobStatus.DONE Counts: {'101 ': 24, '001 ': 29, '110 ': 39, '011 ': 203, '111 ': 205, '010 ': 49, '000 ': 260, '100 ': 215}\n",
      "125: 9d71d7f6-a677-4f1f-b242-4ec5bb5f4b8d Status: JobStatus.DONE Counts: {'11 ': 5, '00 ': 2, '10 ': 4943, '01 ': 5050}\n",
      "126: 59e9b1e5-2b7f-4735-a48f-0f17c2d4d6f6 Status: JobStatus.DONE Counts: {'01 ': 8, '11 ': 4972, '10 ': 1, '00 ': 5019}\n",
      "127: 673e5ab0-2991-48aa-9c6c-7f28242e5178 Status: JobStatus.DONE Counts: {'11 ': 2, '01 ': 6, '10 ': 6, '00 ': 9986}\n",
      "128: f9f8082e-7a05-4f66-827b-17ba61036ea5 Status: JobStatus.DONE Counts: {'01 ': 10000}\n",
      "129: 2c47bad7-149b-42b1-96f4-2e9aea1f1bf4 Status: JobStatus.DONE Counts: {'00 ': 2, '01 ': 19998}\n",
      "130: 0691f646-1069-4e71-9dc2-25b107811465 Status: JobStatus.DONE Counts: {'01 ': 12, '11 ': 13, '10 ': 12, '00 ': 9963}\n",
      "131: bd7e06cb-4cdd-4cab-859f-7585d7dc9fc3 Status: JobStatus.DONE Counts: {'01 ': 33, '11 ': 44, '10 ': 43, '00 ': 9880}\n",
      "132: 7853da18-fd86-44f1-bce7-19ac641d193e Status: JobStatus.DONE Counts: {'0 ': 10000}\n",
      "133: 7082e3e5-b3a4-48ef-8429-33bfcf7e01ca Status: JobStatus.DONE Counts: {'0 ': 1000000}\n",
      "134: 2bfda9e1-05c3-4460-a7ef-a3585f178951 Status: JobStatus.DONE Counts: {'0 ': 10000}\n",
      "135: 584064f0-c69a-423a-945e-ec0c641ff010 Status: JobStatus.DONE Counts: {'0 ': 119, '1 ': 999881}\n",
      "136: 0c33531f-eaf1-4245-bb83-0ea8ac6296c1 Status: JobStatus.DONE Counts: {'01 ': 3, '10 ': 5, '00 ': 4975, '11 ': 5017}\n",
      "137: 540440df-a174-4945-8006-6dd53b490681 Status: JobStatus.DONE Counts: {'11 ': 98, '10 ': 634, '00 ': 8634, '01 ': 634}\n",
      "138: 0039eaf3-29c6-42ad-bf99-6eef876d0fdb Status: JobStatus.DONE Counts: {'01 ': 3, '10 ': 3, '00 ': 5003, '11 ': 4991}\n",
      "139: a3bacab4-8dd5-480c-9fc0-4ae484b7bb31 Status: JobStatus.DONE Counts: {'01 ': 526, '10 ': 792, '00 ': 4231, '11 ': 4451}\n",
      "140: c2c48164-79c6-4211-9454-e3a35f20d97a Status: JobStatus.DONE Counts: {'10 ': 2514, '00 ': 2494, '11 ': 2502, '01 ': 2490}\n",
      "141: ae116faf-3345-43fc-9f52-74a0c558f891 Status: JobStatus.DONE Counts: {'01 ': 5, '10 ': 6, '00 ': 4988, '11 ': 5001}\n",
      "142: e6440e3c-8533-4812-8e26-6e5a48e2eba3 Status: JobStatus.DONE Counts: {'01 ': 2481, '11 ': 2483, '10 ': 2504, '00 ': 2532}\n",
      "143: 924638a2-5b1c-425f-bd92-992433241722 Status: JobStatus.DONE Counts: {'01 ': 507, '11 ': 4467, '10 ': 808, '00 ': 4218}\n",
      "144: 37655c02-92ad-4679-82c7-2524b058d0c5 Status: JobStatus.DONE Counts: {'01 ': 2494, '00 ': 2478, '10 ': 2523, '11 ': 2505}\n",
      "145: 40c7ffda-fb4c-44ec-af6e-5b2df83fc349 Status: JobStatus.DONE Counts: {'11 ': 83, '01 ': 563, '10 ': 608, '00 ': 8746}\n",
      "146: 4b3efc40-c681-4dd1-86ca-485e6a1e7b44 Status: JobStatus.DONE Counts: {'01 ': 7, '11 ': 4946, '10 ': 4, '00 ': 5043}\n",
      "147: 01a2eb7d-ba87-4999-af75-f1220b5cd67f Status: JobStatus.DONE Counts: {'10 ': 820, '00 ': 4241, '01 ': 559, '11 ': 4380}\n",
      "148: 5aa9725c-8582-49aa-8871-caf3b9b39691 Status: JobStatus.DONE Counts: {'11 ': 110, '01 ': 575, '10 ': 602, '00 ': 8713}\n",
      "149: 6e9a6105-cce5-41b1-a9c4-b76c44175c7d Status: JobStatus.DONE Counts: {'01 ': 4, '11 ': 4954, '10 ': 1, '00 ': 5041}\n",
      "150: 1b004b57-7329-4b93-bbfe-616899824ac7 Status: JobStatus.DONE Counts: {'01 ': 506, '11 ': 4374, '10 ': 756, '00 ': 4364}\n",
      "151: 1a86d45d-1562-4847-b2ad-b873c7c81a5e Status: JobStatus.DONE Counts: {'01 ': 5, '11 ': 5067, '10 ': 1, '00 ': 4927}\n",
      "152: 51061ff9-b9a4-4363-8ba6-5793fd35c4f5 Status: JobStatus.DONE Counts: {'11 ': 3, '01 ': 5024, '00 ': 7, '10 ': 4966}\n",
      "153: 7633db35-e817-45c6-87dd-3c03c7b0fe24 Status: JobStatus.DONE Counts: {'01 ': 2511, '11 ': 2493, '10 ': 2516, '00 ': 2480}\n",
      "154: 90fbd483-85d7-47d0-b0a9-ed59d4eb6cf9 Status: JobStatus.DONE Counts: {'01 ': 2524, '11 ': 2427, '10 ': 2454, '00 ': 2595}\n",
      "155: 7aac3d5c-9b98-4ade-b920-9be73fe182ad Status: JobStatus.DONE Counts: {'01 ': 2426, '11 ': 2546, '00 ': 2531, '10 ': 2497}\n",
      "156: 4f637306-e25a-45df-89e5-48d8ac19d556 Status: JobStatus.DONE Counts: {'00 ': 2572, '10 ': 2482, '11 ': 2434, '01 ': 2512}\n",
      "157: 15200d9b-9c8f-4553-a790-0461f1e96166 Status: JobStatus.DONE Counts: {'00 ': 2486, '10 ': 2475, '01 ': 2545, '11 ': 2494}\n",
      "158: 176988b8-51ac-49a3-8e02-eba1e849915f Status: JobStatus.DONE Counts: {'01 ': 2414, '00 ': 2618, '10 ': 2488, '11 ': 2480}\n",
      "159: 51676b24-0a26-433b-816f-135f56bf8be5 Status: JobStatus.DONE Counts: {'11 ': 119, '01 ': 593, '10 ': 612, '00 ': 8676}\n",
      "160: b8a24b45-e5ab-41f8-887e-76d9917e9695 Status: JobStatus.DONE Counts: {'11 ': 91, '01 ': 595, '00 ': 8719, '10 ': 595}\n",
      "161: 0467528d-c4bc-4669-821b-768d2e861600 Status: JobStatus.DONE Counts: {'01 ': 4, '00 ': 4976, '11 ': 5020}\n",
      "162: 16a5e750-2351-4ce9-9b2c-906b4a531595 Status: JobStatus.DONE Counts: {'11 ': 103, '01 ': 592, '10 ': 607, '00 ': 8698}\n",
      "163: 7cc47ca2-ead1-4226-adc1-8689c4ae1f48 Status: JobStatus.DONE Counts: {'01 ': 7, '11 ': 4979, '10 ': 3, '00 ': 5011}\n",
      "164: 030cb30c-7473-4286-8310-b33ef7fa1fc4 Status: JobStatus.DONE Counts: {'01 ': 513, '10 ': 751, '00 ': 4302, '11 ': 4434}\n",
      "165: fbf543a3-2ed5-4cfe-9ee0-7a85ce181f47 Status: JobStatus.DONE Counts: {'01 ': 5, '10 ': 4, '00 ': 4970, '11 ': 5021}\n",
      "166: e57bcaab-7c40-4f61-be12-6f2db8b5a7ed Status: JobStatus.DONE Counts: {'11 ': 3, '00 ': 3, '10 ': 4951, '01 ': 5043}\n",
      "167: befaef1f-ab92-47e6-bb4f-8ebe4e14d26c Status: JobStatus.DONE Counts: {'01 ': 2510, '11 ': 2519, '10 ': 2531, '00 ': 2440}\n",
      "168: 622a1b9f-8372-457a-b7da-a875bfed341a Status: JobStatus.DONE Counts: {'11 ': 3, '01 ': 5016, '00 ': 7, '10 ': 4974}\n",
      "169: b6c6b7dc-418e-4881-b472-575da0eca37d Status: JobStatus.DONE Counts: {'11 ': 8, '00 ': 6, '10 ': 4999, '01 ': 4987}\n",
      "170: 9d0bc2e1-a8f3-4d77-b5f7-eb560b60969e Status: JobStatus.DONE Counts: {'11 ': 4, '00 ': 4, '10 ': 4911, '01 ': 5081}\n",
      "171: 664db462-2d3c-46e0-934c-49c8ffd42fbd Status: JobStatus.DONE Counts: {'11 ': 1, '00 ': 5, '10 ': 4986, '01 ': 5008}\n",
      "172: 106c9631-9941-4bcb-b4aa-f64dbe8bc71e Status: JobStatus.DONE Counts: {'11 ': 95, '01 ': 631, '10 ': 585, '00 ': 8689}\n",
      "173: c4354b76-cfe5-4756-8789-a26daf7b28b3 Status: JobStatus.DONE Counts: {'01 ': 7, '11 ': 4983, '10 ': 4, '00 ': 5006}\n",
      "174: ec50a349-9777-48e9-abb2-2a0aaad20417 Status: JobStatus.DONE Counts: {'10 ': 822, '00 ': 4275, '11 ': 4356, '01 ': 547}\n",
      "175: cd9d3ddf-49f1-4e68-8bc1-9102300ad64b Status: JobStatus.DONE Counts: {'01 ': 6, '11 ': 5041, '10 ': 1, '00 ': 4952}\n",
      "176: 3b631edc-a5fe-4f12-8787-5ab9c9ad8165 Status: JobStatus.DONE Counts: {'11 ': 5, '10 ': 4992, '00 ': 1, '01 ': 5002}\n",
      "177: 87697fc9-b598-4dbe-a083-6309b1f7c2f4 Status: JobStatus.DONE Counts: {'11 ': 2554, '10 ': 2432, '00 ': 2483, '01 ': 2531}\n",
      "178: 21adbe42-b42f-4ec5-a7bf-199e1c453860 Status: JobStatus.DONE Counts: {'11 ': 82, '01 ': 636, '10 ': 580, '00 ': 8702}\n",
      "179: 72aa25c5-67d9-40e7-80d0-2e5b8a6c7f92 Status: JobStatus.DONE Counts: {'01 ': 4, '11 ': 5082, '10 ': 4, '00 ': 4910}\n",
      "180: a27b1bd4-a31c-4b75-8acc-913152870fb7 Status: JobStatus.DONE Counts: {'01 ': 511, '11 ': 4434, '00 ': 4263, '10 ': 792}\n",
      "181: f557d50c-c336-455b-8d1b-b35903a61e2b Status: JobStatus.DONE Counts: {'01 ': 5, '10 ': 3, '00 ': 4928, '11 ': 5064}\n",
      "182: 988c5935-2bdc-4b28-a4c4-4b7824c3471f Status: JobStatus.DONE Counts: {'11 ': 2448, '01 ': 2511, '00 ': 2507, '10 ': 2534}\n",
      "183: 06532bf2-4d8d-4d6d-af50-a5dc995d86cc Status: JobStatus.DONE Counts: {'11 ': 87, '01 ': 558, '10 ': 593, '00 ': 8762}\n",
      "184: 6546a3ea-d5f2-49ed-ab23-4c5566d056fb Status: JobStatus.DONE Counts: {'01 ': 579, '11 ': 86, '10 ': 618, '00 ': 8717}\n",
      "185: 009f6008-eb99-41d3-9bde-aea6f9ba4c92 Status: JobStatus.DONE Counts: {'11 ': 95, '01 ': 626, '10 ': 575, '00 ': 8704}\n",
      "186: 9756b14a-d2be-41ef-91ec-e9107035fde0 Status: JobStatus.DONE Counts: {'01 ': 6, '11 ': 5070, '10 ': 1, '00 ': 4923}\n",
      "187: fa96e25f-13cb-4618-b262-f32a1702fa6c Status: JobStatus.DONE Counts: {'01 ': 1, '11 ': 5048, '10 ': 3, '00 ': 4948}\n",
      "188: b3f9685b-d1b3-4b0c-a729-880e78ad3abd Status: JobStatus.DONE Counts: {'01 ': 518, '11 ': 4488, '00 ': 4249, '10 ': 745}\n",
      "189: acf1e963-30f3-480e-bc19-2a689d17b107 Status: JobStatus.DONE Counts: {'01 ': 8, '11 ': 4, '10 ': 6, '00 ': 9982}\n",
      "190: 681cfeaf-31ce-4b39-be75-fb7b9395357b Status: JobStatus.DONE Counts: {'01 ': 3, '11 ': 5001, '10 ': 3, '00 ': 4993}\n",
      "191: 446d95b9-c39a-4d55-94ad-f34763961afd Status: JobStatus.DONE Counts: {'11 ': 4, '00 ': 4, '10 ': 5072, '01 ': 4920}\n",
      "192: 7bc6ae7d-979f-4119-9223-79ef5f23917d Status: JobStatus.DONE Counts: {'11 ': 86, '01 ': 613, '10 ': 587, '00 ': 8714}\n",
      "193: df27475c-b6f9-4f6f-bd92-d7d48d20fb81 Status: JobStatus.DONE Counts: {'11 ': 95, '01 ': 644, '10 ': 617, '00 ': 8644}\n",
      "194: 16689f26-760f-40d5-906d-8213d420dcc8 Status: JobStatus.DONE Counts: {'01 ': 2, '11 ': 5013, '10 ': 3, '00 ': 4982}\n",
      "195: acd7e12b-c8a0-40b4-9f07-dc2dc1740b13 Status: JobStatus.DONE Counts: {'01 ': 524, '11 ': 4303, '10 ': 769, '00 ': 4404}\n",
      "196: a88f9bb4-74e3-4b03-b309-a8412981f4b8 Status: JobStatus.DONE Counts: {'01 ': 1, '11 ': 5045, '10 ': 3, '00 ': 4951}\n",
      "197: 3d767b0a-ea14-4e23-a196-cf4f36b7c625 Status: JobStatus.DONE Counts: {'01 ': 7, '10 ': 4, '00 ': 4940, '11 ': 5049}\n",
      "198: a24f7d01-8490-4f2b-b835-650a4caf5611 Status: JobStatus.DONE Counts: {'11 ': 7, '00 ': 3, '10 ': 4942, '01 ': 5048}\n",
      "199: 1622b7b2-30bf-4d39-95ba-8b15f4f1b0c1 Status: JobStatus.DONE Counts: {'01 ': 2440, '10 ': 2516, '00 ': 2497, '11 ': 2547}\n",
      "200: 7ed905e8-1d3d-47c4-ac3b-33140e58e30a Status: JobStatus.DONE Counts: {'01 ': 544, '11 ': 4376, '00 ': 4294, '10 ': 786}\n",
      "201: 711c8931-d662-440a-954c-fd7857bb26f8 Status: JobStatus.DONE Counts: {'11 ': 81, '01 ': 602, '10 ': 612, '00 ': 8705}\n",
      "202: 9f01b1db-3fbd-4299-ae3c-a1c65bd35528 Status: JobStatus.DONE Counts: {'11 ': 101, '01 ': 581, '10 ': 594, '00 ': 8724}\n",
      "203: e30e41ff-6388-46a4-b457-1f9529e05270 Status: JobStatus.DONE Counts: {'11 ': 100, '01 ': 559, '10 ': 615, '00 ': 8726}\n",
      "204: af6cd6dc-87bb-48a0-931a-abff7e612d81 Status: JobStatus.DONE Counts: {'01 ': 613, '11 ': 94, '00 ': 8694, '10 ': 599}\n",
      "205: 61372bc8-d002-4343-9e36-dad828fdec06 Status: JobStatus.DONE Counts: {'11 ': 89, '01 ': 584, '10 ': 606, '00 ': 8721}\n",
      "206: 006d2374-d7da-4987-b78a-4853c19f18c0 Status: JobStatus.DONE Counts: {'11 ': 97, '01 ': 591, '10 ': 592, '00 ': 8720}\n",
      "207: 60721221-7a80-4aa1-acc4-c66ff8eae20f Status: JobStatus.DONE Counts: {'11 ': 102, '01 ': 595, '10 ': 621, '00 ': 8682}\n",
      "208: c65ff9c6-624a-487a-823a-77cf2544dc51 Status: JobStatus.DONE Counts: {'11 ': 104, '01 ': 617, '00 ': 8730, '10 ': 549}\n",
      "209: 134d7cca-1b6f-4f40-996d-6d376723a4ff Status: JobStatus.DONE Counts: {'01 ': 5, '11 ': 4923, '10 ': 4, '00 ': 5068}\n",
      "210: fc6e5521-81bf-4ab2-a435-160c014137ac Status: JobStatus.DONE Counts: {'01 ': 3, '11 ': 4892, '10 ': 2, '00 ': 5103}\n",
      "211: 6be5e369-3d7c-488f-8d80-d8ec56eeccb6 Status: JobStatus.DONE Counts: {'01 ': 6, '10 ': 4, '00 ': 4950, '11 ': 5040}\n",
      "212: bd621f84-85f3-4c36-b959-86cb5584f0dc Status: JobStatus.DONE Counts: {'01 ': 2, '11 ': 5108, '10 ': 7, '00 ': 4883}\n",
      "213: 4ebf1303-d471-4735-914a-7e905af5f189 Status: JobStatus.DONE Counts: {'01 ': 3, '10 ': 2, '00 ': 4892, '11 ': 5103}\n",
      "214: e8442058-86fd-4afb-89ca-fe74cf3b8cda Status: JobStatus.DONE Counts: {'01 ': 550, '10 ': 803, '00 ': 4167, '11 ': 4480}\n",
      "215: 74849cb4-3af7-4766-a4c4-a52794587212 Status: JobStatus.DONE Counts: {'01 ': 2, '11 ': 4929, '10 ': 1, '00 ': 5068}\n",
      "216: 445c4ba6-3d33-4480-9c0e-41473e206c6f Status: JobStatus.DONE Counts: {'01 ': 526, '10 ': 792, '00 ': 4242, '11 ': 4440}\n",
      "217: 7c4c0c69-0b15-40b6-8801-41fa888f6ce5 Status: JobStatus.DONE Counts: {'01 ': 501, '11 ': 4377, '10 ': 776, '00 ': 4346}\n",
      "218: 519e0efb-db7c-4eb7-bdfb-7c33c9a98dbd Status: JobStatus.DONE Counts: {'01 ': 4, '11 ': 4988, '10 ': 3, '00 ': 5005}\n",
      "219: 910d6f8e-814b-47d3-9992-5b9616adf22c Status: JobStatus.DONE Counts: {'11 ': 5, '01 ': 5054, '00 ': 6, '10 ': 4935}\n",
      "220: db4c05b5-b23a-400f-beb9-65c9f61fd846 Status: JobStatus.DONE Counts: {'01 ': 509, '00 ': 4336, '10 ': 786, '11 ': 4369}\n",
      "221: 910205c6-a1a4-4d64-800e-4662b16f5f52 Status: JobStatus.DONE Counts: {'01 ': 527, '11 ': 4351, '00 ': 4262, '10 ': 860}\n",
      "222: dddb7dc4-6e2f-41aa-9eed-f9570cf8a604 Status: JobStatus.DONE Counts: {'11 ': 88, '01 ': 613, '10 ': 606, '00 ': 8693}\n",
      "223: b1094026-aa0c-4562-9f59-15d298af4350 Status: JobStatus.DONE Counts: {'11 ': 2510, '01 ': 2439, '00 ': 2459, '10 ': 2592}\n",
      "224: fde9aa45-e37b-4702-8fe3-fc9cef2f89ee Status: JobStatus.DONE Counts: {'01 ': 525, '10 ': 769, '00 ': 4341, '11 ': 4365}\n",
      "225: 4d2e7abb-944a-4f16-a2b9-93cd60873168 Status: JobStatus.DONE Counts: {'01 ': 4, '11 ': 5042, '10 ': 2, '00 ': 4952}\n",
      "226: b3429f75-8dff-49ed-ac3c-059120b09270 Status: JobStatus.DONE Counts: {'101 ': 6, '011 ': 3, '001 ': 14, '100 ': 4, '010 ': 5, '000 ': 9968}\n",
      "227: c68b56d5-3434-44ed-b00f-530cd404a7b2 Status: JobStatus.DONE Counts: {'10 ': 4, '01 ': 6}\n",
      "228: c0a8e07f-2547-4686-9ffc-091f9c4356ea Status: JobStatus.DONE Counts: {'01 ': 5, '10 ': 5}\n",
      "229: bec84508-b942-4fd5-97b3-f98d58f1371f Status: JobStatus.DONE Counts: {'01 ': 2, '10 ': 4, '00 ': 5033, '11 ': 4961}\n",
      "230: 88980ea2-d0d7-47cf-a480-163b735f9dc6 Status: JobStatus.DONE Counts: {'01 ': 563, '11 ': 4430, '10 ': 819, '00 ': 4188}\n",
      "231: e6ef94ea-800e-4928-95e4-b52d7975d5c3 Status: JobStatus.DONE Counts: {'110 ': 291, '100 ': 984, '101 ': 1111, '111 ': 350, '011 ': 1092, '001 ': 1438, '010 ': 764, '000 ': 3970}\n",
      "232: 5a4509d5-e9f9-450b-9fc0-44c0f1f27bee Status: JobStatus.DONE Counts: {'110 ': 1045, '001 ': 1449, '011 ': 1247, '111 ': 1096, '101 ': 1213, '010 ': 1243, '000 ': 1484, '100 ': 1223}\n",
      "233: e3609d6d-c5bb-4c34-bf6e-acef26e9fcc8 Status: JobStatus.DONE Counts: {'01 ': 5, '10 ': 2, '00 ': 5033, '11 ': 4960}\n",
      "234: 91948bcb-b623-42d9-bcc4-612d4089d78a Status: JobStatus.DONE Counts: {'01 ': 30, '11 ': 23, '10 ': 13, '00 ': 934}\n",
      "235: 78851e3b-babd-4d7b-8b29-7908898a7017 Status: JobStatus.DONE Counts: {'11 ': 4, '01 ': 4958, '00 ': 1, '10 ': 5037}\n",
      "236: 32ee1e68-71a8-40b3-bdb9-4fe99a0abca1 Status: JobStatus.DONE Counts: {'11 ': 86, '01 ': 607, '10 ': 583, '00 ': 8724}\n",
      "237: 90a6f682-ba28-498a-a220-8d2ab0cd0a18 Status: JobStatus.DONE Counts: {'01 ': 565, '11 ': 4344, '10 ': 796, '00 ': 4295}\n",
      "238: ee094a54-01dd-4a97-ad74-c55d9e81995d Status: JobStatus.DONE Counts: {'01 ': 571, '11 ': 104, '10 ': 591, '00 ': 8734}\n",
      "239: 5b707c33-f893-4e59-914d-354cf74e69e9 Status: JobStatus.DONE Counts: {'11 ': 101, '10 ': 603, '00 ': 8731, '01 ': 565}\n",
      "240: 8b123581-1bbe-45b0-bcc0-ac0a159accca Status: JobStatus.DONE Counts: {'0101 ': 3, '1011 ': 3, '0001 ': 1, '1111 ': 3}\n",
      "241: b373e1f5-35a0-4147-92c3-f6e1af95f81b Status: JobStatus.DONE Counts: {'1110 ': 1, '0000 ': 2, '0001 ': 1, '1010 ': 2, '0100 ': 1, '1011 ': 3}\n",
      "242: 26e48dc4-8849-4f60-93ca-cab3126ece0f Status: JobStatus.DONE Counts: {'00 ': 2472, '10 ': 2488, '01 ': 2527, '11 ': 2513}\n",
      "243: 8ddbec04-ff61-4b77-87eb-8ef7b3692abd Status: JobStatus.DONE Counts: {'11 ': 2, '00 ': 4, '10 ': 4968, '01 ': 5026}\n",
      "244: a459cf79-1b27-4d93-98ff-816eca5bf69e Status: JobStatus.DONE Counts: {'11 ': 7, '01 ': 39, '10 ': 67, '00 ': 887}\n",
      "245: 2093cbe7-d36a-48fd-be9b-6ab31bd08439 Status: JobStatus.DONE Counts: {'1111 ': 1, '0001 ': 1, '0100 ': 3, '1011 ': 2, '1110 ': 1, '0101 ': 1, '1010 ': 1}\n",
      "246: 310cd90c-3f71-4c1d-8990-70865d76842d Status: JobStatus.DONE Counts: {'0000 ': 1, '0100 ': 1, '1110 ': 3, '1010 ': 2, '1111 ': 3}\n",
      "247: f18992c9-97b2-4459-9f39-e84a029c01b9 Status: JobStatus.DONE Counts: {'11 ': 4, '01 ': 4, '10 ': 5, '00 ': 9987}\n",
      "248: db057e61-b689-47a4-8b4c-0495ad53289a Status: JobStatus.DONE Counts: {'01 ': 5, '10 ': 4, '00 ': 4967, '11 ': 5024}\n",
      "249: 4b31351a-46bb-4280-8d35-239a1277096f Status: JobStatus.DONE Counts: {'11 ': 5, '01 ': 7, '10 ': 4, '00 ': 9984}\n",
      "250: 235826c4-8639-4a7b-a01a-d02eac94bc66 Status: JobStatus.DONE Counts: {'11 ': 5, '01 ': 70, '10 ': 46, '00 ': 879}\n",
      "251: c3455c79-5efa-4f67-830f-a15a1cc3142e Status: JobStatus.DONE Counts: {'1011 ': 1, '0101 ': 1, '1110 ': 1, '0000 ': 1, '1010 ': 3, '1111 ': 1, '0001 ': 2}\n",
      "252: d79dd744-3a96-4bb4-96b7-1c1b6d92d5d4 Status: JobStatus.DONE Counts: {'01 ': 3, '10 ': 9, '00 ': 4927, '11 ': 5061}\n",
      "253: c02d118d-80a8-4643-8d64-1f605f27dfe6 Status: JobStatus.DONE Counts: {'11 ': 234, '01 ': 272, '10 ': 257, '00 ': 237}\n",
      "254: 49dbc544-0ba3-4fe1-a4af-de75cf5c1e09 Status: JobStatus.DONE Counts: {'11 ': 82, '01 ': 594, '10 ': 625, '00 ': 8699}\n",
      "255: d28e7115-99e0-4165-81c3-977567439fae Status: JobStatus.DONE Counts: {'01 ': 4, '10 ': 1, '00 ': 4991, '11 ': 5004}\n",
      "256: 05156a3f-6cae-454e-9e29-ce2b40328999 Status: JobStatus.DONE Counts: {'11 ': 85, '01 ': 612, '10 ': 615, '00 ': 8688}\n",
      "257: d17dc125-7063-45f8-a682-1eb5ac0a5d34 Status: JobStatus.DONE Counts: {'11 ': 94, '01 ': 625, '10 ': 589, '00 ': 8692}\n",
      "258: 5c348316-b4e3-4d1c-aaed-ed1bdafdb752 Status: JobStatus.DONE Counts: {'01 ': 4, '11 ': 5064, '10 ': 2, '00 ': 4930}\n",
      "259: b1b6f9a8-2283-4af0-8ff8-dd85ec1a240b Status: JobStatus.DONE Counts: {'001 ': 1202, '110 ': 1237, '101 ': 1274, '111 ': 1234, '011 ': 1295, '100 ': 1272, '010 ': 1263, '000 ': 1223}\n",
      "260: 41cd341e-35df-4ad1-a3df-0954f800cba2 Status: JobStatus.DONE Counts: {'11 ': 250, '10 ': 250, '00 ': 256, '01 ': 244}\n",
      "261: ba164788-cea2-4984-852b-cd2295b5503c Status: JobStatus.DONE Counts: {'1010 ': 133, '0000 ': 110, '1111 ': 117, '0001 ': 128, '1011 ': 120, '0100 ': 123, '1110 ': 149, '0101 ': 120}\n",
      "262: c917b207-f730-43b3-bae3-a78cc0421820 Status: JobStatus.DONE Counts: {'01 ': 3, '10 ': 2, '00 ': 4997, '11 ': 4998}\n",
      "263: bf25d30e-e519-4ef0-ae95-36b62a3a4e98 Status: JobStatus.DONE Counts: {'01 ': 576, '11 ': 4360, '10 ': 786, '00 ': 4278}\n",
      "264: 99d5d59e-9d9b-412b-b7ec-e847c4ae5d23 Status: JobStatus.DONE Counts: {'11 ': 3, '01 ': 8, '10 ': 10, '00 ': 9979}\n",
      "265: 937477a0-dd5f-4208-b15d-4ddef32d1085 Status: JobStatus.DONE Counts: {'11 ': 4, '00 ': 1, '10 ': 5076, '01 ': 4919}\n",
      "266: 760e0dac-adf0-49ab-b2d2-6af2daff3511 Status: JobStatus.DONE Counts: {'00 ': 10}\n",
      "267: 591b0252-4a31-438b-8e83-2dd161e89835 Status: JobStatus.DONE Counts: {'01 ': 6, '10 ': 1, '00 ': 4946, '11 ': 5047}\n",
      "268: bb372416-43ad-4ef6-b35e-ef2b16d94df6 Status: JobStatus.DONE Counts: {'01 ': 533, '10 ': 801, '00 ': 4274, '11 ': 4392}\n",
      "269: b8f875d7-5154-4633-a115-6b3a27d85548 Status: JobStatus.DONE Counts: {'11 ': 2522, '01 ': 2532, '00 ': 2453, '10 ': 2493}\n",
      "270: e0e803f2-bd03-48b5-9f84-8d235a7e1e7d Status: JobStatus.DONE Counts: {'1011 ': 11, '0000 ': 10, '0001 ': 7, '1111 ': 14, '0100 ': 15, '1010 ': 11, '0101 ': 20, '1110 ': 12}\n",
      "271: 6b69b7b3-ae7e-4ef5-b1ca-11f0faf70735 Status: JobStatus.DONE Counts: {'11 ': 362, '01 ': 330, '10 ': 4681, '00 ': 4627}\n",
      "272: 6fbd962e-82bb-465a-a88e-437c182a3233 Status: JobStatus.DONE Counts: {'11 ': 6, '01 ': 5, '10 ': 8, '00 ': 9981}\n",
      "273: 963a1b9a-5bf8-4362-bac5-ecc5c82595a0 Status: JobStatus.DONE Counts: {'10 ': 2496, '00 ': 2504, '01 ': 2491, '11 ': 2509}\n",
      "274: f6af0891-9271-4207-9221-364177dcaabc Status: JobStatus.DONE Counts: {'11 ': 365, '01 ': 348, '10 ': 4684, '00 ': 4603}\n",
      "275: 877821d9-a362-443d-bd7f-c86c62e75bb6 Status: JobStatus.DONE Counts: {'1101 ': 1, '1011 ': 99}\n",
      "276: 07e55183-983e-459f-ae58-9150339ac3e4 Status: JobStatus.DONE Counts: {'01 ': 366, '11 ': 373, '00 ': 4587, '10 ': 4674}\n",
      "277: 6249aa6b-0ad0-47a8-9632-c4fec3ca3ce2 Status: JobStatus.DONE Counts: {'01 ': 9, '11 ': 7, '10 ': 10, '00 ': 9974}\n",
      "278: de3087e6-7c71-42ca-940c-a74291e2875f Status: JobStatus.DONE Counts: {'00 ': 10}\n",
      "279: 36f47bb1-6f69-46e6-8528-c3d978f661a9 Status: JobStatus.DONE Counts: {'00 ': 4268, '10 ': 833, '01 ': 546, '11 ': 4353}\n",
      "280: b0cb07f1-349f-430b-8164-484e5f45dd61 Status: JobStatus.DONE Counts: {'0101 ': 45, '1011 ': 55}\n",
      "281: 706b1d0c-be35-4053-877e-8faa21184d85 Status: JobStatus.DONE Counts: {'01 ': 532, '00 ': 4225, '10 ': 817, '11 ': 4426}\n",
      "282: 30571411-7dba-4aa7-ae42-319c2740a4a1 Status: JobStatus.DONE Counts: {'00 ': 48, '11 ': 52}\n",
      "283: 33559832-acc9-452c-a01c-ed0225782d1f Status: JobStatus.DONE Counts: {'01 ': 5, '11 ': 41, '00 ': 44, '10 ': 10}\n",
      "284: 406dea59-8e01-4b14-87a8-7d743795fbd7 Status: JobStatus.DONE Counts: {'11 ': 51, '00 ': 49}\n",
      "285: b628d8e9-fc90-402a-b582-fe9537dd6f22 Status: JobStatus.DONE Counts: {'01 ': 30, '00 ': 24, '10 ': 24, '11 ': 22}\n",
      "286: 973e9731-7a0b-4642-8b71-f94329c3a884 Status: JobStatus.DONE Counts: {'11 ': 5, '00 ': 5}\n",
      "287: b2f5e20f-f5f3-4447-a01a-e7ea1047f8b0 Status: JobStatus.DONE Counts: {'11 ': 139, '01 ': 695, '00 ': 8521, '10 ': 645}\n",
      "288: aa6d0702-d2d2-48e7-b53f-5cf8b94ffca1 Status: JobStatus.DONE Counts: {'01 ': 2495, '10 ': 2496, '00 ': 2516, '11 ': 2493}\n",
      "289: 16f0d3c6-3326-4bdd-b4fe-1293981d1750 Status: JobStatus.DONE Counts: {'00 ': 10000}\n",
      "290: 03e8e374-c10d-48b4-91cb-18269c826330 Status: JobStatus.DONE Counts: {'11 ': 3, '00 ': 5, '01 ': 2}\n",
      "291: 47a31fcf-d38d-496f-992e-f00ca8921680 Status: JobStatus.DONE Counts: {'00 ': 10}\n",
      "292: e5f172bc-a0f2-4557-a7ff-1e9288a8e014 Status: JobStatus.DONE Counts: {'11 ': 6, '00 ': 6, '10 ': 5041, '01 ': 4947}\n",
      "293: 633c2e37-6091-4056-8953-00c4b68b643b Status: JobStatus.DONE Counts: {'01 ': 2539, '00 ': 2520, '10 ': 2472, '11 ': 2469}\n",
      "294: f6f7b958-4520-4559-b7ca-575c07eac1f0 Status: JobStatus.DONE Counts: {'00 ': 10000}\n",
      "295: 1d046eb3-e1f5-4bf2-8ca4-a5797c7a9f01 Status: JobStatus.DONE Counts: {'01 ': 4, '11 ': 5031, '10 ': 3, '00 ': 4962}\n",
      "296: a94be265-a9d0-4d63-8e4a-69e562d5da65 Status: JobStatus.DONE Counts: {'0101 ': 1268, '0000 ': 1238, '1101 ': 1223, '0100 ': 1330, '0001 ': 1241, '1100 ': 1229, '1000 ': 1233, '1001 ': 1238}\n",
      "297: c9cbbd7c-888d-4e21-89d4-b93de5494c45 Status: JobStatus.DONE Counts: {'10 ': 2545, '00 ': 2507, '01 ': 2413, '11 ': 2535}\n",
      "298: 928eade0-2fa8-4ba8-8f0b-c5eae8b21d40 Status: JobStatus.DONE Counts: {'01 ': 2, '10 ': 1, '00 ': 6, '11 ': 1}\n",
      "299: 8adba6b9-a84e-4963-bce1-77c5fb8f115a Status: JobStatus.DONE Counts: {'11 ': 112, '10 ': 614, '00 ': 8635, '01 ': 639}\n",
      "300: 358b98d4-c44e-40ee-8cad-6fe37cc26fd2 Status: JobStatus.DONE Counts: {'01 ': 384, '11 ': 586, '10 ': 705, '00 ': 8325}\n",
      "301: f837addb-0d96-4c80-884b-c467977d63b1 Status: JobStatus.DONE Counts: {'01 ': 5, '10 ': 1, '00 ': 5012, '11 ': 4982}\n",
      "302: 9ab16549-8a16-466f-9274-07e24ae00ee2 Status: JobStatus.DONE Counts: {'11 ': 2, '00 ': 5, '10 ': 4970, '01 ': 5023}\n",
      "303: 5aea69b9-92f6-4a93-8543-8346d2f77136 Status: JobStatus.DONE Counts: {'01 ': 100}\n",
      "304: 414e5b8a-84f2-4544-9f7f-1e5ae734f299 Status: JobStatus.DONE Counts: {'01 ': 529, '10 ': 832, '00 ': 4286, '11 ': 4353}\n",
      "305: c59e1258-7a91-473d-a6f6-781f2af3ac20 Status: JobStatus.DONE Counts: {'11 ': 1700, '00 ': 1805, '10 ': 3214, '01 ': 3281}\n",
      "306: 6dda5310-966d-4a7d-b13c-90420f48eb63 Status: JobStatus.DONE Counts: {'00 ': 100}\n",
      "307: 2477e34b-d1da-4a47-b276-0d2fe3e9a914 Status: JobStatus.DONE Counts: {'01 ': 589, '10 ': 781, '00 ': 4178, '11 ': 4452}\n",
      "308: 61c32644-4ddb-4763-8427-0f02733a7792 Status: JobStatus.DONE Counts: {'11 ': 3, '00 ': 2, '10 ': 2, '01 ': 3}\n",
      "309: 4d3bf7af-f221-452d-8e0e-f8f4eda0621d Status: JobStatus.DONE Counts: {'00 ': 100}\n",
      "310: 7f1e20db-ff3a-4864-8449-a2ef8d2dfc43 Status: JobStatus.DONE Counts: {'01 ': 487, '10 ': 765, '00 ': 4317, '11 ': 4431}\n",
      "311: c41215ac-1cc8-4be2-88a7-c594400bb4a2 Status: JobStatus.DONE Counts: {'00 ': 100}\n",
      "312: 7aa636b6-e1c2-4849-a34e-f0530c7decfd Status: JobStatus.DONE Counts: {'00 ': 1, '10 ': 7, '01 ': 2}\n",
      "313: e391dcc2-6404-4a1f-916b-31925d9f8acc Status: JobStatus.DONE Counts: {'01 ': 2572, '00 ': 2535, '10 ': 2429, '11 ': 2464}\n",
      "314: cade4e1c-c12c-4b1c-b636-7909cab2afdb Status: JobStatus.DONE Counts: {'01 ': 49, '00 ': 51}\n",
      "315: a9c4e86f-1311-4fb6-8c4b-e39c746f264a Status: JobStatus.DONE Counts: {'11 ': 115, '01 ': 609, '10 ': 596, '00 ': 8680}\n",
      "316: bcf4f5af-f620-4cc5-b2bb-7a6f417ba4c9 Status: JobStatus.DONE Counts: {'11 ': 77, '01 ': 607, '10 ': 565, '00 ': 8751}\n",
      "317: 5fb0b85e-53c3-4668-92e2-415875967c00 Status: JobStatus.DONE Counts: {'11 ': 93, '01 ': 633, '10 ': 557, '00 ': 8717}\n",
      "318: e4fae800-df8a-4132-956b-c3c3d1c4bae1 Status: JobStatus.DONE Counts: {'11 ': 15, '01 ': 26, '00 ': 11, '10 ': 48}\n",
      "319: edfe89a6-60f3-4673-8dd5-a393d9a0c260 Status: JobStatus.DONE Counts: {'11 ': 98, '01 ': 66, '10 ': 121, '00 ': 9715}\n",
      "320: 1341f8fa-eab8-44e6-ace3-e9057b6a2f8e Status: JobStatus.DONE Counts: {'10 ': 100}\n",
      "321: 33dce03b-9825-4b3f-a7f9-f775b16ccd0a Status: JobStatus.DONE Counts: {'10 ': 10}\n",
      "322: 17937284-016b-4f07-bdf1-10987a6d4377 Status: JobStatus.DONE Counts: {'00 ': 10}\n",
      "323: ec883493-02e1-4de5-9667-8c8b84a3a146 Status: JobStatus.DONE Counts: {'10 ': 100}\n",
      "324: 82f91f51-bac1-4134-bf8b-d3930ddab2aa Status: JobStatus.DONE Counts: {'01 ': 10}\n",
      "325: 841a90ea-84aa-4200-bacf-8730b9c281ef Status: JobStatus.DONE Counts: {'11 ': 4, '00 ': 6, '10 ': 9990}\n",
      "326: 91d00780-fed2-4004-98e1-ee354793dc5d Status: JobStatus.DONE Counts: {'01 ': 8, '10 ': 11, '00 ': 5021, '11 ': 4960}\n",
      "327: 207e70e8-7bf1-4fa9-96fb-01494c06ea08 Status: JobStatus.DONE Counts: {'11 ': 79, '01 ': 617, '10 ': 598, '00 ': 8706}\n",
      "328: e32d08f7-f418-45b5-a572-90e792e033ba Status: JobStatus.DONE Counts: {'01 ': 59, '10 ': 66, '00 ': 434, '11 ': 465}\n",
      "329: a96d7d4e-62c9-4560-8c31-a40a15748b51 Status: JobStatus.DONE Counts: {'01 ': 58, '11 ': 435, '10 ': 78, '00 ': 453}\n",
      "330: f86b22f5-f772-4da9-8476-4a47583083ce Status: JobStatus.DONE Counts: {'01 ': 51, '10 ': 103, '00 ': 421, '11 ': 449}\n",
      "331: 2fa3ac07-133f-4d48-a771-1b84cb076ece Status: JobStatus.DONE Counts: {'01 ': 62, '10 ': 63, '00 ': 424, '11 ': 475}\n",
      "332: f8bebcdc-05fc-49d7-8087-f069a4cf4ab0 Status: JobStatus.ERROR Counts: []\n",
      "333: ca371821-04dd-469e-85bd-eb52476c03af Status: JobStatus.ERROR Counts: []\n",
      "334: 832c4b7b-44a7-4294-aaa0-84df7e331275 Status: JobStatus.ERROR Counts: []\n",
      "335: ef2b18d3-54fe-437e-a4a8-011d5ff39e24 Status: JobStatus.DONE Counts: {'01 ': 2, '00 ': 4967, '11 ': 5031}\n",
      "336: f08fdf65-798d-4ba6-938b-dcee9c25a569 Status: JobStatus.DONE Counts: {'11 ': 4366, '01 ': 470, '10 ': 804, '00 ': 4360}\n",
      "337: ad5a1d4e-a455-4cea-af68-88dc4c99178d Status: JobStatus.DONE Counts: {'01 ': 551, '11 ': 4374, '10 ': 781, '00 ': 4294}\n",
      "338: cea02904-80fd-4be3-95fd-e17f56508753 Status: JobStatus.DONE Counts: {'01 ': 5, '10 ': 6, '00 ': 5030, '11 ': 4959}\n",
      "339: bc7e0986-33dd-416e-af81-776ed9556f4e Status: JobStatus.DONE Counts: {'01 ': 929, '11 ': 1559, '10 ': 1021, '00 ': 6491}\n",
      "340: 9cccea2f-827c-4297-9b70-d7dcc2560e9a Status: JobStatus.DONE Counts: {'01 ': 859, '11 ': 1492, '10 ': 998, '00 ': 6651}\n",
      "341: 089143ce-78bd-4d9c-824c-debd413e8e53 Status: JobStatus.DONE Counts: {'00 ': 505, '11 ': 519}\n",
      "342: 45c4fbc7-61c8-45f0-8dfa-ff4b5ef36ad4 Status: JobStatus.DONE Counts: {'01 ': 1, '11 ': 526, '00 ': 497}\n",
      "343: ea95980b-51b1-4011-912b-60a73c4eadd1 Status: JobStatus.DONE Counts: {'01 ': 1, '10 ': 1, '00 ': 507, '11 ': 515}\n"
     ]
    }
   ],
   "source": [
    "number_of_records = 10\n",
    "offset = 0\n",
    "counter = 1\n",
    "while True:\n",
    "    jobs = c12_simulator_backend.jobs(number_of_records, offset)\n",
    "\n",
    "    for job in jobs:\n",
    "        print(f\"{counter}: {job.job_id()} Status: {job.status()} Counts: {job.result(15).get_counts()}\")\n",
    "        counter += 1\n",
    "\n",
    "    if len(jobs) < number_of_records:\n",
    "        break\n",
    "\n",
    "    offset = offset + number_of_records\n"
   ],
   "metadata": {
    "collapsed": false
   }
  },
  {
   "cell_type": "markdown",
   "source": [
    "For each job, it is possible to get the circuit sent to the simulator for execution. But, it is even possible to get the transpiled version of this circuit to see what the circuit has been run after the transpilation process."
   ],
   "metadata": {
    "collapsed": false
   }
  },
  {
   "cell_type": "code",
   "execution_count": 8,
   "outputs": [
    {
     "data": {
      "text/plain": "<Figure size 287.294x200.667 with 1 Axes>",
      "image/png": "[encoded data removed]"
     },
     "execution_count": 8,
     "metadata": {},
     "output_type": "execute_result"
    }
   ],
   "source": [
    "# Also it is possible to retrieve the circuit that has been run for specific job\n",
    "first_job = jobs[0]\n",
    "first_job_qasm = first_job.get_qasm() # Get OpenQASM string\n",
    "first_job_circuit = first_job.get_circuit()\n",
    "first_job_circuit.draw('mpl')"
   ],
   "metadata": {
    "collapsed": false
   }
  },
  {
   "cell_type": "code",
   "execution_count": 9,
   "outputs": [
    {
     "data": {
      "text/plain": "<Figure size 538.128x200.667 with 1 Axes>",
      "image/png": "[encoded data removed]"
     },
     "execution_count": 9,
     "metadata": {},
     "output_type": "execute_result"
    }
   ],
   "source": [
    "# Getting the transpiled circuit\n",
    "# NOTICE: It can be possible that due tu bug in Qiskit's transpile function some circuits are wrongly converted to QASM string\n",
    "\n",
    "first_job_transpiled_qasm = first_job.get_qasm(transpiled=True) # Get transpiled OpenQASM string\n",
    "first_job_transpiled_circuit = first_job.get_circuit(transpiled=True)\n",
    "first_job_transpiled_circuit.draw('mpl')"
   ],
   "metadata": {
    "collapsed": false
   }
  },
  {
   "cell_type": "markdown",
   "source": [
    "#### Query job by UUID\n",
    "\n",
    "Jobs can be searched by their UUID using the `get_job()` method."
   ],
   "metadata": {
    "collapsed": false
   }
  },
  {
   "cell_type": "code",
   "execution_count": 10,
   "outputs": [
    {
     "name": "stdout",
     "output_type": "stream",
     "text": [
      "Job id : 089143ce-78bd-4d9c-824c-debd413e8e53 JobStatus.DONE\n"
     ]
    }
   ],
   "source": [
    "# Jobs can be queried by theirs UUID\n",
    "job_uuid = first_job.job_id()\n",
    "search_job = c12_simulator_backend.get_job(job_uuid)\n",
    "\n",
    "print(f\"Job id : {search_job.job_id()} {search_job.status()}\")"
   ],
   "metadata": {
    "collapsed": false
   }
  },
  {
   "cell_type": "markdown",
   "source": [
    "### Running multiple jobs at once\n",
    "\n",
    "The `run()` method of the backend class can also accept the list of QuantumCircuit. This can be an essential feature as it allows a user to run multiple circuits simultaneously and get an array of job instances as a result."
   ],
   "metadata": {
    "collapsed": false
   }
  },
  {
   "cell_type": "code",
   "execution_count": 11,
   "outputs": [
    {
     "name": "stdout",
     "output_type": "stream",
     "text": [
      "Job id: 61a6844b-e473-40fe-ab9e-2b793caec1a0 - >  JobStatus.QUEUED\n",
      "Job id: 6d9a97dd-bee9-4987-9c35-cf001c36fc32 - >  JobStatus.QUEUED\n",
      "[4.99492824e-01-5.49337636e-21j 4.08600525e-04-2.56618815e-21j\n",
      " 2.99375125e-04+2.10415232e-21j 4.99799198e-01-4.20898318e-21j]\n",
      "[2.49751683e-01-2.74674614e-21j 2.04304574e-04-1.28312115e-21j\n",
      " 1.49690722e-04+1.05209836e-21j 2.49904873e-01-2.10453600e-21j\n",
      " 2.49741142e-01-2.74663021e-21j 2.04295951e-04-1.28306700e-21j\n",
      " 1.49684404e-04+1.05205395e-21j 2.49894325e-01-2.10444718e-21j]\n"
     ]
    }
   ],
   "source": [
    "# Array where the circuits will be stored\n",
    "circuits_to_run = []\n",
    "\n",
    "# Creating the circuits\n",
    "circuit_1 = QuantumCircuit(2)\n",
    "circuit_1.h(0)\n",
    "circuit_1.cx(0, 1)\n",
    "\n",
    "circuit_2 = QuantumCircuit(3)\n",
    "circuit_2.h(0)\n",
    "circuit_2.cx(0, 1)\n",
    "circuit_2.x(2)\n",
    "circuit_2.h(2)\n",
    "\n",
    "circuits_to_run.append(circuit_1)\n",
    "circuits_to_run.append(circuit_2)\n",
    "\n",
    "# Running the jobs\n",
    "c12_jobs = c12_simulator_backend.run(circuits_to_run)\n",
    "\n",
    "# Printing the UUID of the jobs\n",
    "for job in c12_jobs:\n",
    "    print(f\"Job id: {job.job_id()} - >  {job.status()}\")\n",
    "\n",
    "# Waiting for the results\n",
    "for job in c12_jobs:\n",
    "    result = job.result()\n",
    "    print(result.get_statevector())"
   ],
   "metadata": {
    "collapsed": false
   }
  },
  {
   "cell_type": "code",
   "execution_count": null,
   "outputs": [],
   "source": [],
   "metadata": {
    "collapsed": false
   }
  }
 ],
 "metadata": {
  "kernelspec": {
   "display_name": "Python 3",
   "language": "python",
   "name": "python3"
  },
  "language_info": {
   "codemirror_mode": {
    "name": "ipython",
    "version": 2
   },
   "file_extension": ".py",
   "mimetype": "text/x-python",
   "name": "python",
   "nbconvert_exporter": "python",
   "pygments_lexer": "ipython2",
   "version": "2.7.6"
  }
 },
 "nbformat": 4,
 "nbformat_minor": 0
}
