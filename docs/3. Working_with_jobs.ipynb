{
 "cells": [
  {
   "cell_type": "markdown",
   "source": [
    "### Working with a jobs\n",
    "\n",
    "The job class obtained after running a QuantumCircuit has interesting properties that can be used."
   ],
   "metadata": {
    "collapsed": false
   }
  },
  {
   "cell_type": "code",
   "execution_count": 30,
   "outputs": [
    {
     "data": {
      "text/plain": "     ┌───┐     \nq_0: ┤ H ├──■──\n     └───┘┌─┴─┐\nq_1: ─────┤ X ├\n          └───┘",
      "text/html": "<pre style=\"word-wrap: normal;white-space: pre;background: #fff0;line-height: 1.1;font-family: &quot;Courier New&quot;,Courier,monospace\">     ┌───┐     \nq_0: ┤ H ├──■──\n     └───┘┌─┴─┐\nq_1: ─────┤ X ├\n          └───┘</pre>"
     },
     "execution_count": 30,
     "metadata": {},
     "output_type": "execute_result"
    }
   ],
   "source": [
    "# !python -m pip install --index-url https://test.pypi.org/simple/ --extra-index-url https://pypi.org/simple c12simulator-clients -q\n",
    "\n",
    "from c12simulator_clients.user_configs import UserConfigs\n",
    "from c12simulator_clients.qiskit_back.c12sim_provider import C12SimProvider\n",
    "from qiskit import QuantumCircuit\n",
    "\n",
    "TOKEN = \"db0ccae9b0dfccba90a534ad40802d40aa57d395bdac4e3a0bfcaaa7db0a3c2f\"\n",
    "configs = UserConfigs.parse_obj({\"token\" : TOKEN})\n",
    "\n",
    "c12_simulator_provider = C12SimProvider(configs)\n",
    "c12_simulator_backend = c12_simulator_provider.get_backend('c12sim')\n",
    "\n",
    "\n",
    "circuit = QuantumCircuit(2)\n",
    "circuit.h(0)\n",
    "circuit.cx(0, 1)\n",
    "\n",
    "circuit.draw()"
   ],
   "metadata": {
    "collapsed": false
   }
  },
  {
   "cell_type": "markdown",
   "source": [
    "Two main methods available for each Job instance are job_id() and status().\n",
    "\n",
    "1. `job_id()` method returns the unique identifier of a job as a UUID4 string (\n",
    " a universally unique identifier (UUID), version 4,  is a 36-character alphanumeric random generated string ). This id can be used for later assessment of the job properties.\n",
    "\n",
    "2. `status()` method is used to get the status of a job execution as an instance of JobStatus class. Available statuses are:\n",
    "    - `QUEUED` = Job is queued. It waits for execution\n",
    "    - `RUNNING` = Job is currently running.\n",
    "    - `CANCELLED` = Job has been canceled.\n",
    "    - `DONE` = Job has been successfully done.\n",
    "    - `ERROR` = There has been an error during the execution of a job.\n",
    "\n",
    "The status of a running job can be changed depending on the current state of job execution.\n"
   ],
   "metadata": {
    "collapsed": false
   }
  },
  {
   "cell_type": "code",
   "execution_count": 32,
   "outputs": [
    {
     "name": "stdout",
     "output_type": "stream",
     "text": [
      "Job id: 47fdc659-5554-431d-b7f6-aadb9cfd94d9\n",
      "Status: JobStatus.RUNNING\n"
     ]
    }
   ],
   "source": [
    "c12_job = c12_simulator_backend.run(circuit)\n",
    "print(f\"Job id: {c12_job.job_id()}\") # Get a job UUID\n",
    "print(f\"Status: {c12_job.status()}\")  # Get a current job status"
   ],
   "metadata": {
    "collapsed": false
   }
  },
  {
   "cell_type": "markdown",
   "source": [
    "The result of a job execution can be obtained with the `result()` method. This method can have one optional argument (timeout). The `timeout` argument specifies how long the method will wait for the execution of the task. If the time limit is exceeded, the `C12SimJobError` exception is raised. If we do not specify this argument, its default value is None, meaning the method will block until the simulation is finished.\n",
    "\n",
    "Another way to get the results is to check the job status periodically until it is `DONE`  and then call the `result()` function."
   ],
   "metadata": {
    "collapsed": false
   }
  },
  {
   "cell_type": "code",
   "execution_count": 33,
   "outputs": [
    {
     "name": "stdout",
     "output_type": "stream",
     "text": [
      "47fdc659-5554-431d-b7f6-aadb9cfd94d9: JobStatus.RUNNING\n",
      "47fdc659-5554-431d-b7f6-aadb9cfd94d9: JobStatus.RUNNING\n",
      "47fdc659-5554-431d-b7f6-aadb9cfd94d9: JobStatus.RUNNING\n",
      "47fdc659-5554-431d-b7f6-aadb9cfd94d9: JobStatus.RUNNING\n",
      "47fdc659-5554-431d-b7f6-aadb9cfd94d9: JobStatus.RUNNING\n",
      "47fdc659-5554-431d-b7f6-aadb9cfd94d9: JobStatus.RUNNING\n",
      "47fdc659-5554-431d-b7f6-aadb9cfd94d9: JobStatus.RUNNING\n",
      "47fdc659-5554-431d-b7f6-aadb9cfd94d9: JobStatus.RUNNING\n",
      "47fdc659-5554-431d-b7f6-aadb9cfd94d9: JobStatus.DONE\n",
      "{'01': 1, '11': 529, '00': 494}\n"
     ]
    }
   ],
   "source": [
    "from qiskit.providers import JobStatus\n",
    "import time\n",
    "job_final_states = [JobStatus.DONE, JobStatus.ERROR, JobStatus.CANCELLED]\n",
    "c12_job_id = c12_job.job_id()\n",
    "while True:\n",
    "    job_status = c12_job.status()\n",
    "    print(f'{c12_job_id}: {job_status}')\n",
    "    if job_status in job_final_states:\n",
    "        break\n",
    "    time.sleep(5) # Wait 5 s\n",
    "\n",
    "if c12_job.status() == JobStatus.DONE:\n",
    "    c12_result = c12_job.result()\n",
    "    print(c12_result.get_counts())"
   ],
   "metadata": {
    "collapsed": false
   }
  },
  {
   "cell_type": "code",
   "execution_count": 34,
   "outputs": [
    {
     "name": "stdout",
     "output_type": "stream",
     "text": [
      "{'01': 1, '11': 484, '00': 539}\n"
     ]
    }
   ],
   "source": [
    "# Running a job that will block until finished\n",
    "c12_job = c12_simulator_backend.run(circuit)\n",
    "c12_result = c12_job.result()\n",
    "if c12_job.status() == JobStatus.DONE:\n",
    "    print(c12_result.get_counts())"
   ],
   "metadata": {
    "collapsed": false
   }
  },
  {
   "cell_type": "code",
   "execution_count": 35,
   "outputs": [
    {
     "name": "stdout",
     "output_type": "stream",
     "text": [
      "Timeout!\n",
      " Last status: JobStatus.DONE\n"
     ]
    }
   ],
   "source": [
    "# Getting a job result with a timeout argument specified\n",
    "from c12simulator_clients.qiskit_back.exceptions import C12SimJobError\n",
    "c12_job = c12_simulator_backend.run(circuit)\n",
    "\n",
    "try:\n",
    "    c12_result = c12_job.result(timeout=15) # it will raise a Timeout Error as it won't be finished in 15s\n",
    "except C12SimJobError:\n",
    "    print(\"Timeout!\")\n",
    "    print(f\" Last status: {c12_job.status()}\")"
   ],
   "metadata": {
    "collapsed": false
   }
  },
  {
   "cell_type": "markdown",
   "source": [
    "### Getting previous jobs\n",
    "\n",
    "Next, extremely useful functionality is the possibility to obtain all jobs run on the system by a specific user. Using this functionality, the user can get the results of old jobs.\n",
    "\n",
    "This can be achieved by calling the `jobs()` function on the backend instance. This function accepts two arguments: `limit` and `offset`. We can specify how many jobs we want to get with a `limit` argument. Likewise, we can set the `offset` from the first job with an offset argument. With these arguments, pagination is easily achieved."
   ],
   "metadata": {
    "collapsed": false
   }
  },
  {
   "cell_type": "code",
   "execution_count": 37,
   "outputs": [
    {
     "name": "stdout",
     "output_type": "stream",
     "text": [
      "1: c9052ef0-4a4d-4b4c-b9e9-4ead90d6ca4b Status: JobStatus.DONE Counts: {'01': 271, '10': 257, '00': 243, '11': 253}\n",
      "2: a948abbd-057b-4212-b254-a8871f92f9e7 Status: JobStatus.DONE Counts: {'10': 265, '00': 281, '11': 244, '01': 234}\n",
      "3: 18973d16-3f58-4bce-a74d-d851909edeba Status: JobStatus.DONE Counts: {'01': 261, '11': 249, '00': 263, '10': 251}\n",
      "4: 015aa6c2-f42f-4f73-9954-bc213c71b26b Status: JobStatus.DONE Counts: {'01': 3, '11': 494, '00': 527}\n",
      "5: 0a3bf6e5-ba9c-4445-9972-d0e5ae8c937b Status: JobStatus.DONE Counts: {'10': 2, '00': 1022}\n",
      "6: 955f1cbe-570e-41e1-a50a-8c01f02b9e75 Status: JobStatus.DONE Counts: {'10': 1, '00': 1023}\n",
      "7: 9f07fae4-6719-4ee2-a0a7-23d3029f7357 Status: JobStatus.DONE Counts: {'01': 1, '10': 4, '00': 1019}\n",
      "8: 29650169-02f5-4259-b1cc-1ecb0190bcc2 Status: JobStatus.DONE Counts: {'11': 1, '10': 2, '00': 1021}\n",
      "9: 2d4071b4-cd87-4f6d-be7e-8d6e20bfde56 Status: JobStatus.DONE Counts: {'11': 492, '00': 532}\n",
      "10: a65dd5e7-9cb0-4e6a-817b-2b07aa20ca4b Status: JobStatus.DONE Counts: {'01': 1, '10': 1, '00': 501, '11': 521}\n",
      "11: 9d705349-e95a-4f64-8ba2-fd6216c43ddf Status: JobStatus.DONE Counts: {'11': 507, '10': 1, '00': 516}\n",
      "12: d5786033-bc52-4e7c-aba6-d4bf664fa47f Status: JobStatus.DONE Counts: {'01': 1, '00': 519, '11': 504}\n",
      "13: e07288d5-8502-4553-bcbb-75bd91dd1788 Status: JobStatus.DONE Counts: {'01': 1, '00': 484, '11': 539}\n",
      "14: 82ff5007-71b1-4f5d-a51b-fe4758b0b1f9 Status: JobStatus.DONE Counts: {'01': 1, '11': 498, '10': 1, '00': 524}\n",
      "15: 78163f6d-d4e4-4c2b-820f-6fc49866ffac Status: JobStatus.DONE Counts: {'01': 1, '11': 489, '10': 1, '00': 533}\n",
      "16: a23c938a-6921-41d1-82c7-6d6a61a9b976 Status: JobStatus.DONE Counts: {'01': 1, '10': 1, '00': 514, '11': 508}\n",
      "17: 868d65f4-02aa-40e7-a572-df6a049b3f65 Status: JobStatus.DONE Counts: {'00': 482, '11': 542}\n",
      "18: c070fe33-fc5d-49fb-885a-7e4147ce28b4 Status: JobStatus.DONE Counts: {'00': 509, '11': 515}\n",
      "19: d67437b1-4869-440b-96c6-029629c30704 Status: JobStatus.DONE Counts: {'101': 2, '100': 238, '011': 263, '111': 262, '000': 259}\n",
      "20: 26e1aaa7-f08f-41d5-9961-75b96cd46c98 Status: JobStatus.DONE Counts: {'11': 497, '00': 527}\n",
      "21: b7b5982a-5ebe-4efe-be4d-7cc4904bb32e Status: JobStatus.DONE Counts: {'01': 1, '11': 1, '00': 1022}\n",
      "22: 6ea47fae-5709-4593-b79d-627443387ec3 Status: JobStatus.DONE Counts: {'01': 1, '10': 3, '00': 1020}\n",
      "23: 0608cc4e-5fb6-4c8f-b4a4-67f11460d371 Status: JobStatus.DONE Counts: {'00': 512, '11': 512}\n",
      "24: 47fdc659-5554-431d-b7f6-aadb9cfd94d9 Status: JobStatus.DONE Counts: {'01': 1, '11': 529, '00': 494}\n",
      "25: 3c19f8d0-99be-4a26-a52b-1b337f46ea0d Status: JobStatus.DONE Counts: {'01': 1, '11': 484, '00': 539}\n",
      "26: d41e9908-f51c-439f-9f5f-b4ceb707f901 Status: JobStatus.DONE Counts: {'01': 3, '11': 505, '10': 1, '00': 515}\n"
     ]
    }
   ],
   "source": [
    "number_of_records = 10\n",
    "offset = 0\n",
    "counter = 1\n",
    "while True:\n",
    "    jobs = c12_simulator_backend.jobs(number_of_records, offset)\n",
    "\n",
    "    for job in jobs:\n",
    "        print(f\"{counter}: {job.job_id()} Status: {job.status()} Counts: {job.result().get_counts()}\")\n",
    "        counter += 1\n",
    "\n",
    "    if len(jobs) < number_of_records:\n",
    "        break\n",
    "\n",
    "    offset = offset + number_of_records\n"
   ],
   "metadata": {
    "collapsed": false
   }
  },
  {
   "cell_type": "markdown",
   "source": [
    "### Running multiple jobs at once\n",
    "\n",
    "The `run()` method of the backend class can also accept the list of QuantumCircuit. This can be an essential feature as it allows a user to run multiple circuits simultaneously and get an array of job instances as a result."
   ],
   "metadata": {
    "collapsed": false
   }
  },
  {
   "cell_type": "code",
   "execution_count": 39,
   "outputs": [
    {
     "name": "stdout",
     "output_type": "stream",
     "text": [
      "Job id: 282fda89-b843-4be7-b0e3-2230ec86c474 - >  JobStatus.RUNNING\n",
      "Job id: d003f9d3-2362-444a-84b4-f18cdea64df9 - >  JobStatus.QUEUED\n",
      "[ 1.43483218e-06-7.07170237e-01j -7.23495740e-05+7.45804289e-05j\n",
      " -1.50334738e-05+7.94950543e-05j -4.24279316e-06-7.07043308e-01j]\n",
      "[-1.01462838e-06+5.00068929e-01j  5.11613358e-05-5.27388644e-05j\n",
      "  1.06307827e-05-5.62141965e-05j  3.00025216e-06+4.99979172e-01j\n",
      "  1.01453074e-06-5.00020810e-01j -5.11564128e-05+5.27337896e-05j\n",
      " -1.06297597e-05+5.62087873e-05j -2.99996346e-06-4.99931061e-01j]\n"
     ]
    }
   ],
   "source": [
    "# Array where the circuits will be stored\n",
    "circuits_to_run = []\n",
    "\n",
    "# Creating the circuits\n",
    "circuit_1 = QuantumCircuit(2)\n",
    "circuit_1.h(0)\n",
    "circuit_1.cx(0, 1)\n",
    "\n",
    "circuit_2 = QuantumCircuit(3)\n",
    "circuit_2.h(0)\n",
    "circuit_2.cx(0, 1)\n",
    "circuit_2.x(2)\n",
    "circuit_2.h(2)\n",
    "\n",
    "circuits_to_run.append(circuit_1)\n",
    "circuits_to_run.append(circuit_2)\n",
    "\n",
    "# Running the jobs\n",
    "c12_jobs = c12_simulator_backend.run(circuits_to_run)\n",
    "\n",
    "# Printing the UUID of the jobs\n",
    "for job in c12_jobs:\n",
    "    print(f\"Job id: {job.job_id()} - >  {job.status()}\")\n",
    "\n",
    "# Waiting for the results\n",
    "for job in c12_jobs:\n",
    "    result = job.result()\n",
    "    print(result.get_statevector())"
   ],
   "metadata": {
    "collapsed": false
   }
  }
 ],
 "metadata": {
  "kernelspec": {
   "display_name": "Python 3",
   "language": "python",
   "name": "python3"
  },
  "language_info": {
   "codemirror_mode": {
    "name": "ipython",
    "version": 2
   },
   "file_extension": ".py",
   "mimetype": "text/x-python",
   "name": "python",
   "nbconvert_exporter": "python",
   "pygments_lexer": "ipython2",
   "version": "2.7.6"
  }
 },
 "nbformat": 4,
 "nbformat_minor": 0
}
