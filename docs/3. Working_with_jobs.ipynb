{
 "cells": [
  {
   "cell_type": "markdown",
   "source": [
    "### Working with a jobs\n",
    "\n",
    "The job class obtained after running a QuantumCircuit has interesting properties that can be used."
   ],
   "metadata": {
    "collapsed": false
   }
  },
  {
   "cell_type": "code",
   "execution_count": 5,
   "outputs": [
    {
     "data": {
      "text/plain": "     ┌───┐     \nq_0: ┤ H ├──■──\n     └───┘┌─┴─┐\nq_1: ─────┤ X ├\n          └───┘",
      "text/html": "<pre style=\"word-wrap: normal;white-space: pre;background: #fff0;line-height: 1.1;font-family: &quot;Courier New&quot;,Courier,monospace\">     ┌───┐     \nq_0: ┤ H ├──■──\n     └───┘┌─┴─┐\nq_1: ─────┤ X ├\n          └───┘</pre>"
     },
     "execution_count": 5,
     "metadata": {},
     "output_type": "execute_result"
    }
   ],
   "source": [
    "# !python -m pip install --index-url https://test.pypi.org/simple/ --extra-index-url https://pypi.org/simple c12simulator-clients==0.0.18\n",
    "\n",
    "from c12simulator_clients.user_configs import UserConfigs\n",
    "from c12simulator_clients.qiskit_back.c12sim_provider import C12SimProvider\n",
    "from qiskit import QuantumCircuit\n",
    "\n",
    "TOKEN = \"db0ccae9b0dfccba90a534ad40802d40aa57d395bdac4e3a0bfcaaa7db0a3c2f\"\n",
    "configs = UserConfigs.parse_obj({\"token\" : TOKEN})\n",
    "\n",
    "c12_simulator_provider = C12SimProvider(configs)\n",
    "c12_simulator_backend = c12_simulator_provider.get_backend('c12sim')\n",
    "\n",
    "\n",
    "circuit = QuantumCircuit(2)\n",
    "circuit.h(0)\n",
    "circuit.cx(0, 1)\n",
    "\n",
    "circuit.draw()"
   ],
   "metadata": {
    "collapsed": false
   }
  },
  {
   "cell_type": "markdown",
   "source": [
    "Two main methods available for each Job instance are job_id() and status().\n",
    "\n",
    "1. `job_id()` method returns the unique identifier of a job as a UUID4 string (\n",
    " a universally unique identifier (UUID), version 4,  is a 36-character alphanumeric random generated string ). This id can be used for later assessment of the job properties.\n",
    "\n",
    "2. `status()` method is used to get the status of a job execution as an instance of JobStatus class. Available statuses are:\n",
    "    - `QUEUED` = Job is queued. It waits for execution\n",
    "    - `RUNNING` = Job is currently running.\n",
    "    - `CANCELLED` = Job has been canceled.\n",
    "    - `DONE` = Job has been successfully done.\n",
    "    - `ERROR` = There has been an error during the execution of a job.\n",
    "\n",
    "The status of a running job can be changed depending on the current state of job execution.\n"
   ],
   "metadata": {
    "collapsed": false
   }
  },
  {
   "cell_type": "code",
   "execution_count": 6,
   "outputs": [
    {
     "name": "stdout",
     "output_type": "stream",
     "text": [
      "Job id: fefb6786-ac82-496f-bd92-397e10232dec\n",
      "Status: JobStatus.RUNNING\n"
     ]
    }
   ],
   "source": [
    "c12_job = c12_simulator_backend.run(circuit)\n",
    "print(f\"Job id: {c12_job.job_id()}\") # Get a job UUID\n",
    "print(f\"Status: {c12_job.status()}\")  # Get a current job status"
   ],
   "metadata": {
    "collapsed": false
   }
  },
  {
   "cell_type": "markdown",
   "source": [
    "The result of a job execution can be obtained with the `result()` method. This method can have one optional argument (timeout). The `timeout` argument specifies how long the method will wait for the execution of the task. If the time limit is exceeded, the `C12SimJobError` exception is raised. If we do not specify this argument, its default value is None, meaning the method will block until the simulation is finished.\n",
    "\n",
    "Another way to get the results is to check the job status periodically until it is `DONE`  and then call the `result()` function."
   ],
   "metadata": {
    "collapsed": false
   }
  },
  {
   "cell_type": "code",
   "execution_count": 7,
   "outputs": [
    {
     "name": "stdout",
     "output_type": "stream",
     "text": [
      "fefb6786-ac82-496f-bd92-397e10232dec: JobStatus.RUNNING\n",
      "fefb6786-ac82-496f-bd92-397e10232dec: JobStatus.RUNNING\n",
      "fefb6786-ac82-496f-bd92-397e10232dec: JobStatus.RUNNING\n",
      "fefb6786-ac82-496f-bd92-397e10232dec: JobStatus.RUNNING\n",
      "fefb6786-ac82-496f-bd92-397e10232dec: JobStatus.RUNNING\n",
      "fefb6786-ac82-496f-bd92-397e10232dec: JobStatus.RUNNING\n",
      "fefb6786-ac82-496f-bd92-397e10232dec: JobStatus.RUNNING\n",
      "fefb6786-ac82-496f-bd92-397e10232dec: JobStatus.RUNNING\n",
      "fefb6786-ac82-496f-bd92-397e10232dec: JobStatus.DONE\n",
      "{'10': 1, '00': 528, '11': 495}\n"
     ]
    }
   ],
   "source": [
    "from qiskit.providers import JobStatus\n",
    "import time\n",
    "job_final_states = [JobStatus.DONE, JobStatus.ERROR, JobStatus.CANCELLED]\n",
    "c12_job_id = c12_job.job_id()\n",
    "while True:\n",
    "    job_status = c12_job.status()\n",
    "    print(f'{c12_job_id}: {job_status}')\n",
    "    if job_status in job_final_states:\n",
    "        break\n",
    "    time.sleep(5) # Wait 5 s\n",
    "\n",
    "if c12_job.status() == JobStatus.DONE:\n",
    "    c12_result = c12_job.result()\n",
    "    print(c12_result.get_counts())"
   ],
   "metadata": {
    "collapsed": false
   }
  },
  {
   "cell_type": "code",
   "execution_count": 8,
   "outputs": [
    {
     "name": "stdout",
     "output_type": "stream",
     "text": [
      "{'11': 514, '00': 510}\n"
     ]
    }
   ],
   "source": [
    "# Running a job that will block until finished\n",
    "c12_job = c12_simulator_backend.run(circuit)\n",
    "c12_result = c12_job.result()\n",
    "if c12_job.status() == JobStatus.DONE:\n",
    "    print(c12_result.get_counts())"
   ],
   "metadata": {
    "collapsed": false
   }
  },
  {
   "cell_type": "code",
   "execution_count": 9,
   "outputs": [
    {
     "name": "stdout",
     "output_type": "stream",
     "text": [
      "Timeout!\n",
      " Last status: JobStatus.RUNNING\n"
     ]
    }
   ],
   "source": [
    "# Getting a job result with a timeout argument specified\n",
    "from c12simulator_clients.qiskit_back.exceptions import C12SimJobError\n",
    "c12_job = c12_simulator_backend.run(circuit)\n",
    "\n",
    "try:\n",
    "    c12_result = c12_job.result(timeout=15) # it will raise a Timeout Error as it won't be finished in 15s\n",
    "except C12SimJobError:\n",
    "    print(\"Timeout!\")\n",
    "    print(f\" Last status: {c12_job.status()}\")"
   ],
   "metadata": {
    "collapsed": false
   }
  },
  {
   "cell_type": "markdown",
   "source": [
    "### Getting previous jobs\n",
    "\n",
    "Next, extremely useful functionality is the possibility to obtain all jobs run on the system by a specific user. Using this functionality, the user can get the results of old jobs.\n",
    "\n",
    "This can be achieved by calling the `jobs()` function on the backend instance. This function accepts two arguments: `limit` and `offset`. We can specify how many jobs we want to get with a `limit` argument. Likewise, we can set the `offset` from the first job with an offset argument. With these arguments, pagination is easily achieved."
   ],
   "metadata": {
    "collapsed": false
   }
  },
  {
   "cell_type": "code",
   "execution_count": 13,
   "outputs": [
    {
     "name": "stdout",
     "output_type": "stream",
     "text": [
      "1: 30338ecc-d5e9-4579-a96e-075173e8d205 Status: JobStatus.DONE Counts: {'11': 514, '10': 1, '00': 509}\n",
      "2: fefb6786-ac82-496f-bd92-397e10232dec Status: JobStatus.DONE Counts: {'10': 1, '00': 528, '11': 495}\n",
      "3: 1d3bff2d-1e5d-44bf-b2fb-9eeeb37c4ad1 Status: JobStatus.DONE Counts: {'11': 514, '00': 510}\n",
      "4: b316d836-8078-40a4-9f0c-4e98a90e1e8f Status: JobStatus.DONE Counts: {'11': 501, '00': 523}\n"
     ]
    }
   ],
   "source": [
    "number_of_records = 10\n",
    "offset = 0\n",
    "counter = 1\n",
    "while True:\n",
    "    jobs = c12_simulator_backend.jobs(number_of_records, offset)\n",
    "\n",
    "    for job in jobs:\n",
    "        print(f\"{counter}: {job.job_id()} Status: {job.status()} Counts: {job.result().get_counts()}\")\n",
    "        counter += 1\n",
    "\n",
    "    if len(jobs) < number_of_records:\n",
    "        break\n",
    "\n",
    "    offset = offset + number_of_records\n"
   ],
   "metadata": {
    "collapsed": false
   }
  },
  {
   "cell_type": "code",
   "execution_count": 14,
   "outputs": [
    {
     "data": {
      "text/plain": "<Figure size 370.906x200.667 with 1 Axes>",
      "image/png": "[encoded data removed]"
     },
     "execution_count": 14,
     "metadata": {},
     "output_type": "execute_result"
    }
   ],
   "source": [
    "# Also it is possible to retrieve the circuit that has been run for specific job\n",
    "first_job = jobs[0]\n",
    "first_job_qasm = first_job.get_qasm() # Get OpenQASM string\n",
    "first_job_circuit = first_job.get_circuit()\n",
    "first_job_circuit.draw('mpl')"
   ],
   "metadata": {
    "collapsed": false
   }
  },
  {
   "cell_type": "code",
   "execution_count": null,
   "outputs": [],
   "source": [
    "# Jobs can be queried by its UUID\n",
    "job_uuid = first_job.get_id()\n",
    "search_job = c12_simulator_backend.get_job(job_uuid)\n",
    "\n",
    "print(f\"Job id : {search_job.get_id()} {search_job.status()}\")"
   ],
   "metadata": {
    "collapsed": false
   }
  },
  {
   "cell_type": "markdown",
   "source": [
    "### Running multiple jobs at once\n",
    "\n",
    "The `run()` method of the backend class can also accept the list of QuantumCircuit. This can be an essential feature as it allows a user to run multiple circuits simultaneously and get an array of job instances as a result."
   ],
   "metadata": {
    "collapsed": false
   }
  },
  {
   "cell_type": "code",
   "execution_count": 39,
   "outputs": [
    {
     "name": "stdout",
     "output_type": "stream",
     "text": [
      "Job id: 282fda89-b843-4be7-b0e3-2230ec86c474 - >  JobStatus.RUNNING\n",
      "Job id: d003f9d3-2362-444a-84b4-f18cdea64df9 - >  JobStatus.QUEUED\n",
      "[ 1.43483218e-06-7.07170237e-01j -7.23495740e-05+7.45804289e-05j\n",
      " -1.50334738e-05+7.94950543e-05j -4.24279316e-06-7.07043308e-01j]\n",
      "[-1.01462838e-06+5.00068929e-01j  5.11613358e-05-5.27388644e-05j\n",
      "  1.06307827e-05-5.62141965e-05j  3.00025216e-06+4.99979172e-01j\n",
      "  1.01453074e-06-5.00020810e-01j -5.11564128e-05+5.27337896e-05j\n",
      " -1.06297597e-05+5.62087873e-05j -2.99996346e-06-4.99931061e-01j]\n"
     ]
    }
   ],
   "source": [
    "# Array where the circuits will be stored\n",
    "circuits_to_run = []\n",
    "\n",
    "# Creating the circuits\n",
    "circuit_1 = QuantumCircuit(2)\n",
    "circuit_1.h(0)\n",
    "circuit_1.cx(0, 1)\n",
    "\n",
    "circuit_2 = QuantumCircuit(3)\n",
    "circuit_2.h(0)\n",
    "circuit_2.cx(0, 1)\n",
    "circuit_2.x(2)\n",
    "circuit_2.h(2)\n",
    "\n",
    "circuits_to_run.append(circuit_1)\n",
    "circuits_to_run.append(circuit_2)\n",
    "\n",
    "# Running the jobs\n",
    "c12_jobs = c12_simulator_backend.run(circuits_to_run)\n",
    "\n",
    "# Printing the UUID of the jobs\n",
    "for job in c12_jobs:\n",
    "    print(f\"Job id: {job.job_id()} - >  {job.status()}\")\n",
    "\n",
    "# Waiting for the results\n",
    "for job in c12_jobs:\n",
    "    result = job.result()\n",
    "    print(result.get_statevector())"
   ],
   "metadata": {
    "collapsed": false
   }
  }
 ],
 "metadata": {
  "kernelspec": {
   "display_name": "Python 3",
   "language": "python",
   "name": "python3"
  },
  "language_info": {
   "codemirror_mode": {
    "name": "ipython",
    "version": 2
   },
   "file_extension": ".py",
   "mimetype": "text/x-python",
   "name": "python",
   "nbconvert_exporter": "python",
   "pygments_lexer": "ipython2",
   "version": "2.7.6"
  }
 },
 "nbformat": 4,
 "nbformat_minor": 0
}
