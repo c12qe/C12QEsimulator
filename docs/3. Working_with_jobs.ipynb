{
 "cells": [
  {
   "cell_type": "markdown",
   "metadata": {},
   "source": [
    "## Working with jobs\n",
    "\n",
    "The job class obtained after running a QuantumCircuit has interesting properties that can be used."
   ]
  },
  {
   "cell_type": "code",
   "execution_count": 10,
   "outputs": [],
   "source": [
    "import os\n",
    "from c12_callisto_clients.user_configs import UserConfigs\n",
    "from c12_callisto_clients.qiskit.c12sim_provider import C12SimProvider\n",
    "from qiskit import QuantumCircuit"
   ],
   "metadata": {
    "collapsed": false,
    "ExecuteTime": {
     "end_time": "2024-10-08T14:47:38.763647Z",
     "start_time": "2024-10-08T14:47:38.760435Z"
    }
   }
  },
  {
   "cell_type": "code",
   "execution_count": 3,
   "metadata": {
    "collapsed": false,
    "ExecuteTime": {
     "end_time": "2024-10-08T14:41:33.856585Z",
     "start_time": "2024-10-08T14:41:33.531695Z"
    }
   },
   "outputs": [
    {
     "data": {
      "text/plain": "     ┌───┐     \nq_0: ┤ H ├──■──\n     └───┘┌─┴─┐\nq_1: ─────┤ X ├\n          └───┘",
      "text/html": "<pre style=\"word-wrap: normal;white-space: pre;background: #fff0;line-height: 1.1;font-family: &quot;Courier New&quot;,Courier,monospace\">     ┌───┐     \nq_0: ┤ H ├──■──\n     └───┘┌─┴─┐\nq_1: ─────┤ X ├\n          └───┘</pre>"
     },
     "execution_count": 3,
     "metadata": {},
     "output_type": "execute_result"
    }
   ],
   "source": [
    "\n",
    "TOKEN = os.getenv(\"C12_TOKEN\")\n",
    "configs = UserConfigs.parse_obj({\"token\" : TOKEN})\n",
    "c12_simulator_provider = C12SimProvider(configs)\n",
    "c12_simulator_backend = c12_simulator_provider.get_backend('c12sim-iswap')\n",
    "circuit = QuantumCircuit(2)\n",
    "circuit.h(0)\n",
    "circuit.cx(0, 1)\n",
    "\n",
    "circuit.draw()"
   ]
  },
  {
   "cell_type": "markdown",
   "metadata": {},
   "source": [
    "Two main methods available for each Job instance are job_id() and status().\n",
    "\n",
    "1. `job_id()` method returns the unique identifier of a job as a UUID4 string (a universally unique identifier (UUID), version 4,  is a 36-character alphanumeric random generated string). This id can be used for later assessment of the job properties.\n",
    "\n",
    "2. `status()` method is used to get the status of a job execution as an instance of JobStatus class. Available statuses are:\n",
    "    - `QUEUED` = Job is queued. It waits for execution\n",
    "    - `RUNNING` = Job is currently running.\n",
    "    - `CANCELLED` = Job has been canceled.\n",
    "    - `DONE` = Job has been successfully done.\n",
    "    - `ERROR` = There has been an error during the execution of a job.\n",
    "\n",
    "The status of a running job can be changed depending on the current state of job execution.\n"
   ]
  },
  {
   "cell_type": "code",
   "execution_count": 4,
   "metadata": {
    "collapsed": false,
    "ExecuteTime": {
     "end_time": "2024-10-08T14:34:27.494363Z",
     "start_time": "2024-10-08T14:34:27.074318Z"
    }
   },
   "outputs": [
    {
     "name": "stdout",
     "output_type": "stream",
     "text": [
      "Job id: 25f3fecf-f0b2-4f03-bf4c-bbf35234c1e9\n",
      "Status: JobStatus.RUNNING\n"
     ]
    }
   ],
   "source": [
    "c12_job = c12_simulator_backend.run(circuit)\n",
    "\n",
    "print(f\"Job id: {c12_job.job_id()}\") # Get a job UUID\n",
    "print(f\"Status: {c12_job.status()}\")  # Get a current job status"
   ]
  },
  {
   "cell_type": "markdown",
   "metadata": {},
   "source": [
    "The result of a job execution can be obtained with the `result()` method. This method can have one optional argument (timeout). The `timeout` argument specifies how long the method will wait for the execution of the task. If the time limit is exceeded, the `C12SimJobError` exception is raised. If we do not specify this argument, its default value is None, meaning the method will block until the simulation is finished.\n",
    "\n",
    "Another way to get the results is to check the job status periodically until it is `DONE` and then call the `result()` function."
   ]
  },
  {
   "cell_type": "code",
   "execution_count": 5,
   "metadata": {
    "collapsed": false,
    "ExecuteTime": {
     "end_time": "2024-10-08T14:35:18.370737Z",
     "start_time": "2024-10-08T14:34:31.252430Z"
    }
   },
   "outputs": [
    {
     "name": "stdout",
     "output_type": "stream",
     "text": [
      "25f3fecf-f0b2-4f03-bf4c-bbf35234c1e9: JobStatus.RUNNING\n",
      "25f3fecf-f0b2-4f03-bf4c-bbf35234c1e9: JobStatus.RUNNING\n",
      "25f3fecf-f0b2-4f03-bf4c-bbf35234c1e9: JobStatus.RUNNING\n",
      "25f3fecf-f0b2-4f03-bf4c-bbf35234c1e9: JobStatus.RUNNING\n",
      "25f3fecf-f0b2-4f03-bf4c-bbf35234c1e9: JobStatus.RUNNING\n",
      "25f3fecf-f0b2-4f03-bf4c-bbf35234c1e9: JobStatus.RUNNING\n",
      "25f3fecf-f0b2-4f03-bf4c-bbf35234c1e9: JobStatus.RUNNING\n",
      "25f3fecf-f0b2-4f03-bf4c-bbf35234c1e9: JobStatus.RUNNING\n",
      "25f3fecf-f0b2-4f03-bf4c-bbf35234c1e9: JobStatus.RUNNING\n",
      "25f3fecf-f0b2-4f03-bf4c-bbf35234c1e9: JobStatus.DONE\n",
      "{'00': 507, '01': 2, '10': 1, '11': 514}\n"
     ]
    }
   ],
   "source": [
    "from qiskit.providers import JobStatus\n",
    "import time\n",
    "job_final_states = [JobStatus.DONE, JobStatus.ERROR, JobStatus.CANCELLED]\n",
    "c12_job_id = c12_job.job_id()\n",
    "while True:\n",
    "    job_status = c12_job.status()\n",
    "    print(f'{c12_job_id}: {job_status}')\n",
    "    if job_status in job_final_states:\n",
    "        break\n",
    "    time.sleep(5) # Wait 5 s\n",
    "\n",
    "if c12_job.status() == JobStatus.DONE:\n",
    "    c12_result = c12_job.result()\n",
    "    print(c12_result.get_counts())"
   ]
  },
  {
   "cell_type": "code",
   "execution_count": 6,
   "metadata": {
    "collapsed": false,
    "ExecuteTime": {
     "end_time": "2024-10-08T14:36:16.544056Z",
     "start_time": "2024-10-08T14:35:23.888714Z"
    }
   },
   "outputs": [
    {
     "name": "stdout",
     "output_type": "stream",
     "text": [
      "{'00': 514, '11': 510}\n"
     ]
    }
   ],
   "source": [
    "# Running a job that will block until finished\n",
    "c12_job = c12_simulator_backend.run(circuit)\n",
    "c12_result = c12_job.result()\n",
    "if c12_job.status() == JobStatus.DONE:\n",
    "    print(c12_result.get_counts())"
   ]
  },
  {
   "cell_type": "code",
   "execution_count": 7,
   "metadata": {
    "collapsed": false,
    "ExecuteTime": {
     "end_time": "2024-10-08T14:37:07.957500Z",
     "start_time": "2024-10-08T14:36:51.562765Z"
    }
   },
   "outputs": [
    {
     "name": "stdout",
     "output_type": "stream",
     "text": [
      "Timeout!\n",
      " Last status: JobStatus.RUNNING\n"
     ]
    }
   ],
   "source": [
    "# Getting a job result with a timeout argument specified\n",
    "from c12_callisto_clients.qiskit.exceptions import C12SimJobError\n",
    "c12_job = c12_simulator_backend.run(circuit)\n",
    "\n",
    "try:\n",
    "    c12_result = c12_job.result(timeout=15) # it will raise a C12SimJobError as it won't be finished in 15s\n",
    "except C12SimJobError:\n",
    "    print(\"Timeout!\")\n",
    "    print(f\" Last status: {c12_job.status()}\")"
   ]
  },
  {
   "cell_type": "markdown",
   "metadata": {},
   "source": [
    "### Getting previous jobs\n",
    "\n",
    "Next, an extremely useful functionality is the possibility to obtain all jobs run on the system by a specific user. Using this functionality, the user can get the results of old jobs.\n",
    "\n",
    "This can be achieved by calling the `jobs()` function on the backend instance. This function accepts two arguments: `limit` and `offset`. We can specify how many jobs we want to get with a `limit` argument. Likewise, we can set the `offset` from the first job with an offset argument. With these arguments, pagination is easily achieved."
   ]
  },
  {
   "cell_type": "code",
   "execution_count": 5,
   "metadata": {
    "collapsed": false,
    "ExecuteTime": {
     "end_time": "2024-10-08T14:41:49.808817Z",
     "start_time": "2024-10-08T14:41:47.513320Z"
    }
   },
   "outputs": [
    {
     "name": "stdout",
     "output_type": "stream",
     "text": [
      "1: 8f1a598d-5efa-46df-89f5-fc4c69e38d46 Status: JobStatus.DONE\n",
      "2: 46b62950-e1a3-4750-a8e1-75d738fe4d07 Status: JobStatus.DONE\n",
      "3: 84af6995-ff3d-459f-ab9c-89fa90603f43 Status: JobStatus.DONE\n",
      "4: ca23490d-c820-4529-abd2-801cf313eaf8 Status: JobStatus.DONE\n",
      "5: 4e8ec2e8-1d16-4bd4-a87c-8bc8c9ea7420 Status: JobStatus.DONE\n",
      "6: d609a2d1-de33-48ea-adfc-c4b4d0e1afd9 Status: JobStatus.DONE\n",
      "7: ff507df5-65ff-410f-a20e-b4e86726dab8 Status: JobStatus.DONE\n",
      "8: d79259bd-3304-41e2-98e8-3a1794cf6dff Status: JobStatus.DONE\n",
      "9: 9bf33018-e427-4ae6-a4e8-698a21ab60b3 Status: JobStatus.DONE\n",
      "10: dd2ae9e8-6e0c-4a1f-b753-da651d6a4011 Status: JobStatus.DONE\n"
     ]
    }
   ],
   "source": [
    "number_of_records = 10\n",
    "offset = 10\n",
    "counter = 1\n",
    "\n",
    "jobs = c12_simulator_backend.jobs(number_of_records, offset)\n",
    "\n",
    "for job in jobs:\n",
    "    print(f\"{counter}: {job.job_id()} Status: {job.status()}\")\n",
    "    counter += 1\n",
    "\n"
   ]
  },
  {
   "cell_type": "markdown",
   "metadata": {},
   "source": [
    "For each job, it is possible to get the circuit sent to the simulator for execution. But, it is even possible to get the transpiled version of this circuit to see what the circuit has been run after the transpilation process."
   ]
  },
  {
   "cell_type": "code",
   "execution_count": 6,
   "metadata": {
    "collapsed": false,
    "ExecuteTime": {
     "end_time": "2024-10-08T14:41:54.385726Z",
     "start_time": "2024-10-08T14:41:53.280808Z"
    }
   },
   "outputs": [
    {
     "data": {
      "text/plain": "<Figure size 956.183x200.667 with 1 Axes>",
      "image/png": "[encoded data removed]"
     },
     "execution_count": 6,
     "metadata": {},
     "output_type": "execute_result"
    }
   ],
   "source": [
    "# Also it is possible to retrieve the circuit that has been run for specific job\n",
    "first_job = jobs[1]\n",
    "first_job_qasm = first_job.get_qasm() # Get OpenQASM string\n",
    "first_job_circuit = first_job.get_circuit()\n",
    "first_job_circuit.draw('mpl')"
   ]
  },
  {
   "cell_type": "code",
   "execution_count": 7,
   "metadata": {
    "collapsed": false,
    "ExecuteTime": {
     "end_time": "2024-10-08T14:41:59.871822Z",
     "start_time": "2024-10-08T14:41:59.597393Z"
    }
   },
   "outputs": [
    {
     "data": {
      "text/plain": "<Figure size 2210.35x702.333 with 1 Axes>",
      "image/png": "[encoded data removed]"
     },
     "execution_count": 7,
     "metadata": {},
     "output_type": "execute_result"
    }
   ],
   "source": [
    "# Getting the transpiled circuit\n",
    "# NOTICE: It can be possible that due to a bug in Qiskit's transpile function some circuits are wrongly converted to QASM string\n",
    "\n",
    "first_job_transpiled_qasm = first_job.get_qasm(transpiled=True) # Get transpiled OpenQASM string\n",
    "first_job_transpiled_circuit = first_job.get_circuit(transpiled=True)\n",
    "first_job_transpiled_circuit.draw('mpl')"
   ]
  },
  {
   "cell_type": "markdown",
   "metadata": {},
   "source": [
    "### Query job by UUID\n",
    "\n",
    "Jobs can be searched by their UUID using the `get_job()` method."
   ]
  },
  {
   "cell_type": "code",
   "execution_count": 8,
   "metadata": {
    "collapsed": false,
    "ExecuteTime": {
     "end_time": "2024-10-08T14:42:05.419756Z",
     "start_time": "2024-10-08T14:42:05.071350Z"
    }
   },
   "outputs": [
    {
     "name": "stdout",
     "output_type": "stream",
     "text": [
      "Job id : 46b62950-e1a3-4750-a8e1-75d738fe4d07 JobStatus.DONE\n"
     ]
    }
   ],
   "source": [
    "# Jobs can be queried by theirs UUID\n",
    "job_uuid = first_job.job_id()\n",
    "search_job = c12_simulator_backend.get_job(job_uuid)\n",
    "\n",
    "print(f\"Job id : {search_job.job_id()} {search_job.status()}\")"
   ]
  },
  {
   "cell_type": "markdown",
   "metadata": {},
   "source": [
    "### Running multiple jobs at once\n",
    "\n",
    "The `run()` method of the backend class can also accept the list of QuantumCircuit. This can be an essential feature as it allows a user to run multiple circuits simultaneously and get an array of job instances as a result."
   ]
  },
  {
   "cell_type": "code",
   "execution_count": 9,
   "metadata": {
    "collapsed": false,
    "ExecuteTime": {
     "end_time": "2024-10-08T14:43:07.287968Z",
     "start_time": "2024-10-08T14:42:08.293932Z"
    }
   },
   "outputs": [
    {
     "name": "stdout",
     "output_type": "stream",
     "text": [
      "Job id: 15367226-5967-4231-93bd-e81df7da8c40 - >  JobStatus.RUNNING\n",
      "Job id: 4b93f8c1-7e9b-4053-98bc-a0948b59c39d - >  JobStatus.QUEUED\n",
      "[-7.07350024e-01+5.77469756e-05j  5.75368866e-05+2.69994702e-04j\n",
      "  5.74994563e-05+2.15881814e-04j -7.06863360e-01-5.72895393e-05j]\n",
      "[ 5.00172138e-01-4.08332894e-05j -4.06847340e-05-1.90915138e-04j\n",
      " -4.06582668e-05-1.52651537e-04j  4.99828015e-01+4.05098330e-05j\n",
      " -5.00171860e-01+4.08332667e-05j  4.06847114e-05+1.90915032e-04j\n",
      "  4.06582441e-05+1.52651452e-04j -4.99827736e-01-4.05098104e-05j]\n"
     ]
    }
   ],
   "source": [
    "# Array where the circuits will be stored\n",
    "circuits_to_run = []\n",
    "\n",
    "# Creating the circuits\n",
    "circuit_1 = QuantumCircuit(2)\n",
    "circuit_1.h(0)\n",
    "circuit_1.cx(0, 1)\n",
    "\n",
    "circuit_2 = QuantumCircuit(3)\n",
    "circuit_2.h(0)\n",
    "circuit_2.cx(0, 1)\n",
    "circuit_2.x(2)\n",
    "circuit_2.h(2)\n",
    "\n",
    "circuits_to_run.append(circuit_1)\n",
    "circuits_to_run.append(circuit_2)\n",
    "\n",
    "# Running the jobs\n",
    "c12_jobs = c12_simulator_backend.run(circuits_to_run)\n",
    "\n",
    "# Printing the UUID of the jobs\n",
    "for job in c12_jobs:\n",
    "    print(f\"Job id: {job.job_id()} - >  {job.status()}\")\n",
    "\n",
    "# Waiting for the results\n",
    "for job in c12_jobs:\n",
    "    result = job.result()\n",
    "    print(result.get_statevector())"
   ]
  },
  {
   "cell_type": "code",
   "execution_count": null,
   "outputs": [],
   "source": [],
   "metadata": {
    "collapsed": false
   }
  }
 ],
 "metadata": {
  "kernelspec": {
   "display_name": "Python 3 (ipykernel)",
   "language": "python",
   "name": "python3"
  },
  "language_info": {
   "codemirror_mode": {
    "name": "ipython",
    "version": 3
   },
   "file_extension": ".py",
   "mimetype": "text/x-python",
   "name": "python",
   "nbconvert_exporter": "python",
   "pygments_lexer": "ipython3",
   "version": "3.9.13"
  }
 },
 "nbformat": 4,
 "nbformat_minor": 4
}
