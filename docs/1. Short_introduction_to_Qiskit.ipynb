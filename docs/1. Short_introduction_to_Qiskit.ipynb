{
 "cells": [
  {
   "cell_type": "markdown",
   "metadata": {},
   "source": [
    "## Qiskit basics\n",
    "\n",
    "Qiskit is an open-source framework for working with quantum computers. It is maintained and developed by IBM. It provides tools for creating, manipulating and simulating quantum circuits. Qiskit also includes libraries for different quantum algorithms. It has a developer community (available on Slack) and detailed documentation (<a href=\"https://qiskit.org/documentation/\">Qiskit documentation</a>). <br> <br>\n",
    "\n",
    "The foundation of the Qiskit is module Terra,  which provides the essential tools to build and run quantum circuits. In addition, Terra defines the interfaces for an end-user experience and the layers of optimization, pulse scheduling, and backend communication. The detailed and more comprehensive tutorial can be found <a href=\"https://qiskit.org/documentation/tutorials/circuits/1_getting_started_with_qiskit.html\">here</a>.\n",
    "\n",
    "\n",
    "\n",
    "Aer module has different emulators that can imitate the working quantum computer. Aer provides a high-performance emulator framework for quantum circuits using the Qiskit software stack. It contains optimized C++ emulator backends for executing circuits compiled in Terra.\n",
    "\n",
    "\n",
    "To create a quantum circuit, we need to create an instance of the `QuantumCircuit` class and specify the number of qubits.\n"
   ]
  },
  {
   "cell_type": "code",
   "execution_count": 1,
   "metadata": {
    "collapsed": false,
    "ExecuteTime": {
     "end_time": "2024-10-07T13:15:58.026026Z",
     "start_time": "2024-10-07T13:15:57.672165Z"
    }
   },
   "outputs": [
    {
     "data": {
      "text/plain": "     \nq_0: \n     \nq_1: \n     \nq_2: \n     \nq_3: \n     ",
      "text/html": "<pre style=\"word-wrap: normal;white-space: pre;background: #fff0;line-height: 1.1;font-family: &quot;Courier New&quot;,Courier,monospace\">     \nq_0: \n     \nq_1: \n     \nq_2: \n     \nq_3: \n     </pre>"
     },
     "execution_count": 1,
     "metadata": {},
     "output_type": "execute_result"
    }
   ],
   "source": [
    "from qiskit import QuantumCircuit\n",
    "\n",
    "circuit = QuantumCircuit(4) # Create a QuantumCircuit object with 4 qubits\n",
    "circuit.draw() # Visualize the circuit (now, it is an empty circuit, but one should notice that the designation of the qubits starts from zero)"
   ]
  },
  {
   "cell_type": "markdown",
   "metadata": {},
   "source": [
    "After creating the empty circuit with its quantum registers, we can add the operators (gates) to develop and execute the circuit. In Qiskit, operators can be added to the circuit one by one. The complete list of available gates and their usage can be found in Qiskit's documentation.\n",
    "\n",
    "For instance, see: <a href=\"https://qiskit.org/documentation/tutorials/circuits/3_summary_of_quantum_operations.html\"> qiskit gates.</a>\n",
    "\n",
    "It is important to note that the gates (operators) are added to the circuit as a method call on the same circuit (QuantumCircuit) object."
   ]
  },
  {
   "cell_type": "code",
   "execution_count": 2,
   "metadata": {
    "collapsed": false,
    "ExecuteTime": {
     "end_time": "2024-10-07T13:16:00.025410Z",
     "start_time": "2024-10-07T13:16:00.019881Z"
    }
   },
   "outputs": [
    {
     "data": {
      "text/plain": "        ┌───┐      ░ ┌─┐         \n   q_0: ┤ X ├──────░─┤M├─────────\n        └───┘      ░ └╥┘┌─┐      \n   q_1: ───────────░──╫─┤M├──────\n        ┌───┐      ░  ║ └╥┘┌─┐   \n   q_2: ┤ H ├──■───░──╫──╫─┤M├───\n        └───┘┌─┴─┐ ░  ║  ║ └╥┘┌─┐\n   q_3: ─────┤ X ├─░──╫──╫──╫─┤M├\n             └───┘ ░  ║  ║  ║ └╥┘\nmeas: 4/══════════════╩══╩══╩══╩═\n                      0  1  2  3 ",
      "text/html": "<pre style=\"word-wrap: normal;white-space: pre;background: #fff0;line-height: 1.1;font-family: &quot;Courier New&quot;,Courier,monospace\">        ┌───┐      ░ ┌─┐         \n   q_0: ┤ X ├──────░─┤M├─────────\n        └───┘      ░ └╥┘┌─┐      \n   q_1: ───────────░──╫─┤M├──────\n        ┌───┐      ░  ║ └╥┘┌─┐   \n   q_2: ┤ H ├──■───░──╫──╫─┤M├───\n        └───┘┌─┴─┐ ░  ║  ║ └╥┘┌─┐\n   q_3: ─────┤ X ├─░──╫──╫──╫─┤M├\n             └───┘ ░  ║  ║  ║ └╥┘\nmeas: 4/══════════════╩══╩══╩══╩═\n                      0  1  2  3 </pre>"
     },
     "execution_count": 2,
     "metadata": {},
     "output_type": "execute_result"
    }
   ],
   "source": [
    "circuit.h(2)     # Add a H (Hadamard) gate on qubit 3\n",
    "circuit.cx(2, 3) # Add a CX (CNOT) gate on control qubit 3, and target qubit 4\n",
    "circuit.x(0)     # Add Pauli X gate on the first qubit\n",
    "circuit.measure_all()\n",
    "circuit.draw()   # Draw the circuit"
   ]
  },
  {
   "cell_type": "code",
   "execution_count": 3,
   "metadata": {
    "collapsed": false,
    "ExecuteTime": {
     "end_time": "2024-10-07T13:16:01.864093Z",
     "start_time": "2024-10-07T13:16:01.302360Z"
    }
   },
   "outputs": [
    {
     "data": {
      "text/plain": "<Figure size 747.609x451.5 with 1 Axes>",
      "image/png": "[encoded data removed]"
     },
     "execution_count": 3,
     "metadata": {},
     "output_type": "execute_result"
    }
   ],
   "source": [
    "circuit.draw('mpl') # Drawing a circuit using matplotlib (prettier drawing)"
   ]
  },
  {
   "cell_type": "markdown",
   "metadata": {},
   "source": [
    "Using Qiskit's `Aer` module, we can get the results of a perfect simulation of the desired quantum circuit. It means we will get the results without noise or errors, which is invalid for a real quantum computer in the NISQ era.\n",
    "\n",
    "To perform a simulation using the Aer emulator, first, we must choose which backend will be used. In this context, the backend represents the machine for executing our circuit.\n",
    "\n",
    "In this example, the quantum circuit will run on a `statevector` emulator backend which will execute on the local machine. After choosing the backend, we run the circuit by calling the `run()` method, which returns a `job` object that encapsulates all the necessary information about the circuit submitted for execution."
   ]
  },
  {
   "cell_type": "code",
   "execution_count": 4,
   "metadata": {
    "collapsed": false,
    "ExecuteTime": {
     "end_time": "2024-10-07T13:16:10.033475Z",
     "start_time": "2024-10-07T13:16:09.974620Z"
    }
   },
   "outputs": [],
   "source": [
    "from qiskit_aer import AerSimulator\n",
    "\n",
    "backend = AerSimulator() \n",
    "job = backend.run(circuit)"
   ]
  },
  {
   "cell_type": "markdown",
   "metadata": {},
   "source": [
    "The `job` object created after running the circuit on some backend has two essential methods. One is `status()`, which returns the status of the job, and the other is `result()`, which returns the job's result. Knowing that the job runs asynchronously is crucial, so we do not get the results automatically but have to wait for them.\n",
    "\n",
    "There are two possible approaches for getting the result of one job:\n",
    "- Call the `status()` method to check the current status of a job. If the status of a job is finished, we can get its results; if not, we can wait some time and recheck the status until the job is finished. In the end, we can get the job results.\n",
    "- Call the `result()` function, which will block while it waits for a job to finish. It will return when the job finishes its execution. </li>"
   ]
  },
  {
   "cell_type": "code",
   "execution_count": 5,
   "metadata": {
    "collapsed": false,
    "ExecuteTime": {
     "end_time": "2024-10-07T13:16:12.278360Z",
     "start_time": "2024-10-07T13:16:12.269247Z"
    }
   },
   "outputs": [
    {
     "name": "stdout",
     "output_type": "stream",
     "text": [
      "Counts: {'1101': 503, '0001': 521}\n",
      "Statevector: {'1101': 503, '0001': 521}\n"
     ]
    }
   ],
   "source": [
    "from qiskit.providers import JobStatus\n",
    "import time\n",
    "\n",
    "# First approach\n",
    "job_final_states = [JobStatus.DONE, JobStatus.ERROR, JobStatus.CANCELLED]\n",
    "def get_job_result(job_obj):\n",
    "    status = job_obj.status()\n",
    "    if status in job_final_states:\n",
    "        return job_obj.result()\n",
    "    time.sleep(1)\n",
    "\n",
    "result = get_job_result(job)\n",
    "print(f\"Counts: {result.get_counts(circuit)}\")\n",
    "\n",
    "# Second approach\n",
    "result = job.result()\n",
    "print(f\"Statevector: {result.get_counts(circuit)}\")"
   ]
  },
  {
   "cell_type": "markdown",
   "metadata": {},
   "source": [
    "### OpenQASM\n",
    "We can obtain the quantum circuit's OpenQASM format using the Qiskit library.\n",
    "\n",
    "OpenQASM stands for the Open Quantum Assembly Language developed by IBM. It is a textual language that describes quantum circuits implemented on a quantum computer or simulated on a classical computer. It is a low-level language that allows quantum algorithms to be expressed in a way that is independent of the specific hardware being used.\n",
    "\n",
    " `qasm() `in Qiskit should convert our quantum circuit to the QASM format, but its functionality has known problems. For example, it could be possible that the obtained QASM string is wrong, especially for the larger circuits, so we need to pay attention when using this method and verify its results."
   ]
  },
  {
   "cell_type": "code",
   "execution_count": 8,
   "metadata": {
    "collapsed": false,
    "ExecuteTime": {
     "end_time": "2024-10-07T13:16:43.327926Z",
     "start_time": "2024-10-07T13:16:43.319857Z"
    }
   },
   "outputs": [
    {
     "name": "stdout",
     "output_type": "stream",
     "text": [
      "OPENQASM 2.0;\n",
      "include \"qelib1.inc\";\n",
      "qreg q[4];\n",
      "creg meas[4];\n",
      "h q[2];\n",
      "cx q[2],q[3];\n",
      "x q[0];\n",
      "barrier q[0],q[1],q[2],q[3];\n",
      "measure q[0] -> meas[0];\n",
      "measure q[1] -> meas[1];\n",
      "measure q[2] -> meas[2];\n",
      "measure q[3] -> meas[3];\n"
     ]
    }
   ],
   "source": [
    "from qiskit.qasm2 import dumps\n",
    "qasm_str = dumps(circuit)\n",
    "print(qasm_str)"
   ]
  },
  {
   "cell_type": "code",
   "execution_count": 9,
   "metadata": {
    "collapsed": false,
    "ExecuteTime": {
     "end_time": "2024-10-07T13:16:46.780867Z",
     "start_time": "2024-10-07T13:16:46.640525Z"
    }
   },
   "outputs": [
    {
     "data": {
      "text/plain": "<Figure size 747.609x451.5 with 1 Axes>",
      "image/png": "[encoded data removed]"
     },
     "execution_count": 9,
     "metadata": {},
     "output_type": "execute_result"
    }
   ],
   "source": [
    "circuit2 = QuantumCircuit.from_qasm_str(qasm_str)\n",
    "circuit2.draw('mpl')"
   ]
  },
  {
   "cell_type": "code",
   "execution_count": null,
   "metadata": {},
   "outputs": [],
   "source": []
  }
 ],
 "metadata": {
  "kernelspec": {
   "display_name": "Python 3 (ipykernel)",
   "language": "python",
   "name": "python3"
  },
  "language_info": {
   "codemirror_mode": {
    "name": "ipython",
    "version": 3
   },
   "file_extension": ".py",
   "mimetype": "text/x-python",
   "name": "python",
   "nbconvert_exporter": "python",
   "pygments_lexer": "ipython3",
   "version": "3.9.13"
  }
 },
 "nbformat": 4,
 "nbformat_minor": 4
}
